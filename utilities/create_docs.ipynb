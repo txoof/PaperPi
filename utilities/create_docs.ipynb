{
 "cells": [
  {
   "cell_type": "code",
   "execution_count": 23,
   "metadata": {},
   "outputs": [
    {
     "name": "stdout",
     "output_type": "stream",
     "text": [
      "The autoreload extension is already loaded. To reload it, use:\n",
      "  %reload_ext autoreload\n"
     ]
    }
   ],
   "source": [
    "%load_ext autoreload\n",
    "%autoreload 2"
   ]
  },
  {
   "cell_type": "code",
   "execution_count": 24,
   "metadata": {},
   "outputs": [],
   "source": [
    "import sys\n",
    "sys.path.append('../')"
   ]
  },
  {
   "cell_type": "code",
   "execution_count": 25,
   "metadata": {},
   "outputs": [],
   "source": [
    "def get_base_prefix_compat():\n",
    "    \"\"\"Get base/real prefix, or sys.prefix if there is none.\"\"\"\n",
    "    return getattr(sys, \"base_prefix\", None) or getattr(sys, \"real_prefix\", None) or sys.prefix\n",
    "\n",
    "def in_virtualenv():\n",
    "    return get_base_prefix_compat() != sys.prefix"
   ]
  },
  {
   "cell_type": "code",
   "execution_count": 26,
   "metadata": {},
   "outputs": [],
   "source": [
    "if not in_virtualenv():\n",
    "    print('This script must be run from within the local virtual environment')\n",
    "    print(f'try:\\npipenv run python3 {sys.argv[0]}')\n",
    "    sys.exit()"
   ]
  },
  {
   "cell_type": "code",
   "execution_count": 27,
   "metadata": {},
   "outputs": [],
   "source": [
    "from paperpi.library import Plugin, CacheFiles, get_help\n",
    "from importlib import import_module\n",
    "from pathlib import Path\n",
    "import paperpi.my_constants as paperpi_constants\n",
    "import logging\n",
    "from IPython.display import Image \n",
    "import argparse\n",
    "import sys\n",
    "import re\n"
   ]
  },
  {
   "cell_type": "code",
   "execution_count": 28,
   "metadata": {},
   "outputs": [],
   "source": [
    "logging.basicConfig(level='INFO')"
   ]
  },
  {
   "cell_type": "code",
   "execution_count": 29,
   "metadata": {},
   "outputs": [],
   "source": [
    "logger = logging.getLogger(__name__)"
   ]
  },
  {
   "cell_type": "code",
   "execution_count": 30,
   "metadata": {},
   "outputs": [],
   "source": [
    "def setup_plugins(project_root, plugin_list=None, resolution=(640, 400), skip_layouts=False):\n",
    "    '''create dictionary of plugins using sample configurations provided in each plugin directory\n",
    "    \n",
    "    Args:\n",
    "        project_root(`str`): directory where main script is located\n",
    "        use_all_layouts(`Bool`): use all discovered layouts\n",
    "        plugin_list(`list`): list of plugins to update; when None all discovered plugins will be updated\n",
    "        resolution(`tuple` of `int`): screen resolution to use when generating images\n",
    "        load_layouts(`bool`): when True, create a full Plugin object with a layout and an image\n",
    "        \n",
    "    Returns:\n",
    "        `dict` of Plugin objects and layout name used to generate the Plugin\n",
    "        '''\n",
    "\n",
    "\n",
    "    def font_path(layout):\n",
    "        '''add font path to layout'''\n",
    "        for k, block in layout.items():\n",
    "            font = block.get('font', None)\n",
    "            if font:\n",
    "                font = font.format(paperpi_constants.FONTS)\n",
    "                block['font'] = font\n",
    "        return layout\n",
    "    \n",
    "    plugin_path = Path(f'{project_root}/{paperpi_constants.PLUGINS}')\n",
    "    \n",
    "    # discover all plugins\n",
    "    plugins = get_help._get_modules(plugin_path)\n",
    "    logger.debug(f'discovered plugins: {plugins}')\n",
    "    \n",
    "    # reduce the list down to just the specified plugins\n",
    "    if plugin_list:\n",
    "        my_list = []\n",
    "        for i in plugins:\n",
    "            if i in plugin_list:\n",
    "                my_list.append(i)\n",
    "            else:\n",
    "                print(f'specified plugin not found: {i}')\n",
    "        plugins = my_list\n",
    "    \n",
    "    cache = CacheFiles()\n",
    "    \n",
    "    plugin_dict = {}\n",
    "    \n",
    "    \n",
    "    # get the base name for the plugins package\n",
    "    pkg_name = '.'.join([i for i in plugin_path.parts if not i.startswith('.')])\n",
    "\n",
    "    for plugin in plugins:\n",
    "        plugin_dict[plugin] = []\n",
    "        all_layouts = {}\n",
    "        print(f'found plugin {plugin}')\n",
    "#         pkg_name = f'{\".\".join(plugin_path.parts)}'\n",
    "        logger.debug(f'importing pkg: {pkg_name}')\n",
    "        \n",
    "        # import the plugin, layout and sample configuration\n",
    "        try:\n",
    "            module = import_module(f'{pkg_name}.{plugin}')            \n",
    "            layout_import =  import_module(f'{pkg_name}.{plugin}.layout')\n",
    "            sample_import = import_module(f'{pkg_name}.{plugin}.sample')\n",
    "        except ModuleNotFoundError as e:\n",
    "            print(f'skipping plugin {plugin} due to previous error: {e}')\n",
    "            continue\n",
    "        \n",
    "        # get all of the layout dictionarys from the layout file\n",
    "        for a in dir(layout_import):\n",
    "            if not a.startswith('_') and isinstance(getattr(layout_import, a), dict):\n",
    "                all_layouts[a] = (getattr(layout_import, a))\n",
    "                \n",
    "        if len(all_layouts) < 1:\n",
    "            print(f'skipping plugin {plugin} due to missing layouts')\n",
    "            continue\n",
    "            \n",
    "        # remove the default layout from the list if there are multiple layouts defined\n",
    "#         if len(all_layouts) > 1 and 'layout' in all_layouts:\n",
    "#             all_layouts.pop('layout')\n",
    "        \n",
    "        # make sure there is a valid configuration:\n",
    "        try:\n",
    "            config = sample_import.config\n",
    "        except AttributeError as e:\n",
    "            print(f'skipping plugin {plugin} due to missing sample configuration: {e}')\n",
    "            continue\n",
    "        \n",
    "        # setup plugin\n",
    "        if skip_layouts:\n",
    "#             print('skipping creating full layouts and creating images due to command line switch (-s)')\n",
    "            continue\n",
    "        else:\n",
    "            for name, layout in all_layouts.items():\n",
    "                print(f'adding layout: {name}')\n",
    "                layout = font_path(layout)\n",
    "                if not skip_layouts:\n",
    "                    my_plugin = Plugin(resolution=resolution,\n",
    "                                       cache=cache,\n",
    "                                       layout=layout,\n",
    "                                       update_function=module.update_function,\n",
    "                                       config=config\n",
    "                                      )\n",
    "                    my_plugin.refresh_rate = 1\n",
    "\n",
    "                    try:\n",
    "                        if 'kwargs' in config:\n",
    "                            my_plugin.update(**config['kwargs'])\n",
    "\n",
    "                        else:\n",
    "                            my_plugin.update()\n",
    "                    except Exception as e:\n",
    "                        print(f'plugin \"{plugin}\" could not be configured due to errors: {e}')\n",
    "                else:\n",
    "                    my_plugin = None\n",
    "                plugin_dict[plugin].append({\n",
    "                                       'plugin': plugin,\n",
    "                                       'module': module, \n",
    "                                       'plugin_obj': my_plugin, \n",
    "                                       'doc_path': plugin_path/plugin,\n",
    "                                       'layout': name})\n",
    "    return plugin_dict\n"
   ]
  },
  {
   "cell_type": "code",
   "execution_count": 31,
   "metadata": {},
   "outputs": [],
   "source": [
    "def update_ini_file(plugin_dict):\n",
    "    '''append sample configurations for each module to the default paperpi.ini file\n",
    "    distributed at install'''\n",
    "    \n",
    "    base_ini_file = '../install/paperpi_base.ini'\n",
    "    output_ini_file = '../paperpi/config/paperpi.ini'\n",
    "    \n",
    "    config_sections = []\n",
    "    skipped_sections = []\n",
    "    \n",
    "    print(f'updating {output_ini_file} using sample configs from plugins')\n",
    "    \n",
    "    \n",
    "    for plugin, data, in plugin_dict.items():\n",
    "        try:\n",
    "            sample_config = data[0]['module'].constants.sample_config\n",
    "        except (IndexError, AttributeError):\n",
    "            logger.info(f'no valid module data for plugin {plugin}; add {plugin}/constants.sample_config')\n",
    "            skipped_sections.append(plugin)\n",
    "            continue\n",
    "                        \n",
    "        # check that it matches the format\n",
    "        match = re.match('^\\s{0,}\\[Plugin', sample_config)\n",
    "        try:\n",
    "            # set the plugin to be disabled by default\n",
    "            if match.string:\n",
    "                sample_config = re.sub('^\\s{0,}\\[Plugin', '[xPlugin', sample_config)\n",
    "            else:\n",
    "                print(f'plugin {plugin} does not have a standard sample_config string. Please check formatting.')\n",
    "                continue\n",
    "        except AttributeError:\n",
    "            print(f'plugin {plugin} has no valid sample_config string: {sample_config}')\n",
    "            continue\n",
    "        \n",
    "        config_sections.append(sample_config)\n",
    "        config_sections.append('\\n')\n",
    "    \n",
    "    output_ini_list = []\n",
    "    with open(base_ini_file, 'r') as base_f:\n",
    "        for i in base_f:\n",
    "            output_ini_list.append(i)\n",
    "    \n",
    "    output_ini_list.extend(config_sections)\n",
    "    \n",
    "    print(f'writing updated .ini file to {output_ini_file}')\n",
    "    with open(output_ini_file, 'w') as out_f:\n",
    "        for i in output_ini_list:\n",
    "            out_f.write(i)\n",
    "            \n",
    "    if len(skipped_sections) > 0:\n",
    "        print('\\nThese plugins did not have valid sample configurations:')\n",
    "        print(skipped_sections)"
   ]
  },
  {
   "cell_type": "code",
   "execution_count": 32,
   "metadata": {},
   "outputs": [],
   "source": [
    "def create_readme(plugin_dict, project_root, overwrite_images=False):\n",
    "    plugin_docs = {}\n",
    "    plugin_path = Path(f'{project_root}/{paperpi_constants.PLUGINS}')\n",
    "    readme_name = 'README'\n",
    "    readme_additional = '_additional'\n",
    "    readme_suffix = '.md'\n",
    "    \n",
    "    # run through each plugin and gather the document information\n",
    "    for plugin, layouts in plugin_dict.items():\n",
    "        print(f'Processing plugins: {plugin}')\n",
    "        try:\n",
    "            doc_path = Path(layouts[0]['doc_path'])\n",
    "            plugin_readme = Path(doc_path)/f'{readme_name}{readme_suffix}'\n",
    "            plugin_additional_readme = Path(doc_path)/f'{readme_name}{readme_additional}{readme_suffix}'\n",
    "        except IndexError:\n",
    "            print(f'   skipping {plugin} due to incomplete documentation')\n",
    "            continue\n",
    "        \n",
    "        # pull the help information for the plugin\n",
    "        readme_text = get_help.get_help(plugin, False, plugin_path=plugin_path)\n",
    "        \n",
    "        # read the additional documentation\n",
    "        if plugin_additional_readme.exists():\n",
    "            with open(plugin_additional_readme, 'r') as file:\n",
    "                additional_text = file.read()\n",
    "        else:\n",
    "            additional_text = '' \n",
    "        \n",
    "        default_layout_image = {'filename': 'not found',\n",
    "                                'path': 'none',\n",
    "                                'layout_name': 'layout'}\n",
    "        layout_images = []\n",
    "        # gather all the images associated with the plugin\n",
    "        for layout in layouts:\n",
    "            layout_name = layout['layout']\n",
    "            image_filename = f'{plugin}.{layout[\"layout\"]}-sample.png'\n",
    "            image_path = Path(doc_path)/image_filename\n",
    "                        \n",
    "            print(f'   processing layout: {layout_name}')\n",
    "            try:\n",
    "                image = layout['plugin_obj'].image\n",
    "            except AttributeError:\n",
    "                print('   - no image available, skipping this layout')\n",
    "                continue\n",
    "                \n",
    "            if (image_path.exists() and overwrite_images) or not image_path.exists():\n",
    "                print(f'   saving image: {image_path}')\n",
    "                image.save(image_path)\n",
    "            else:\n",
    "                print(f'   image exists, skipping save')\n",
    "                \n",
    "            \n",
    "            \n",
    "            layout_entry = {'filename': image_filename,\n",
    "                            'path': image_path,\n",
    "                            'layout_name': layout_name}\n",
    "            \n",
    "            # try to locate the default \"layout\" to show at the top of the documentation\n",
    "            if layout_name == 'layout':\n",
    "                default_layout_image.update(layout_entry)\n",
    "            \n",
    "            layout_images.append(layout_entry)\n",
    "\n",
    "        print('   writing README files')\n",
    "        with open(plugin_readme, 'w') as file:\n",
    "            plugin_name = \".\".join(doc_path.parts)\n",
    "            file.write(f'# {plugin}\\n')\n",
    "            file.write(f'![sample image for plugin {plugin_name}](./{default_layout_image[\"filename\"]}) \\n\\n')\n",
    "            file.write(f'```\\n{readme_text}\\n```\\n\\n')\n",
    "            file.write(f'## Provided Layouts:\\n\\n')\n",
    "            for l in layout_images:\n",
    "                file.write(f'layout: **{l[\"layout_name\"]}**\\n\\n')  \n",
    "                file.write(f'![sample image for plugin {l[\"layout_name\"]}](./{l[\"filename\"]}) \\n\\n\\n')\n",
    "\n",
    "            file.write(additional_text)\n",
    "        \n",
    "        plugin_docs[plugin] = {'readme': plugin_readme, 'image': default_layout_image[\"path\"]}\n",
    "            \n",
    "    \n",
    "    return plugin_docs"
   ]
  },
  {
   "cell_type": "code",
   "execution_count": 33,
   "metadata": {},
   "outputs": [],
   "source": [
    "def update_plugin_docs(plugin_docs, doc_path):\n",
    "    '''update Plugin.md documentation with snips from all plugin READMEs\n",
    "    \n",
    "    Args:\n",
    "        plugin_docs(dict): dictionary provided by create_readme'''\n",
    "    doc_path = Path(doc_path)\n",
    "    plugin_readme_source = Path(doc_path/'source/Plugins.md')\n",
    "    plugin_readme_post_source = Path(doc_path/'source/Plugins_post.md')\n",
    "    plugin_readme_final = Path(doc_path/plugin_readme_source.name)\n",
    "    print('updating Plugins.md...')\n",
    "    print(f'using: {plugin_readme_source}')\n",
    "    print(f'using postscript file: {plugin_readme_post_source}')\n",
    "    with open(plugin_readme_source, 'r') as file:\n",
    "        source = file.read()\n",
    "        \n",
    "    with open(plugin_readme_post_source, 'r') as file:\n",
    "        post = file.read()\n",
    "    \n",
    "    with open(plugin_readme_final, 'w') as file:\n",
    "        file.write(source)\n",
    "        for plugin, values in plugin_docs.items():\n",
    "            file.write(f'### [{plugin}]({values[\"readme\"]})\\n')\n",
    "            file.write(f'![{plugin} sample Image]({values[\"image\"]})\\n\\n')\n",
    "            \n",
    "        file.write(post)        "
   ]
  },
  {
   "cell_type": "code",
   "execution_count": 34,
   "metadata": {},
   "outputs": [],
   "source": [
    "# update_plugin_docs(plugin_d, '../documentation')"
   ]
  },
  {
   "cell_type": "code",
   "execution_count": null,
   "metadata": {},
   "outputs": [],
   "source": []
  },
  {
   "cell_type": "code",
   "execution_count": 37,
   "metadata": {},
   "outputs": [],
   "source": [
    "def main():\n",
    "    \n",
    "\n",
    "        \n",
    "    parser = argparse.ArgumentParser(description='create_docs')\n",
    " \n",
    "    parser.add_argument('-o', '--overwrite_images', default=False, action='store_true',\n",
    "                       help='overwrite existing images for plugins when updating README files')\n",
    "    \n",
    "    parser.add_argument('-p', '--plugin_list', default=None, nargs='*', \n",
    "                       help='list of specific plugins to process')\n",
    "    \n",
    "    parser.add_argument('-r', '--project_root', default='../paperpi/', nargs=1,\n",
    "                       help='path to project root')\n",
    "    \n",
    "    parser.add_argument('-d', '--documentation_path', default='../documentation',\n",
    "                       help='path to documentation directory')\n",
    "    \n",
    "    parser.add_argument('--log_level', default='INFO', help='set logging output level')\n",
    "    \n",
    "#     parser.add_argument('-s' '--skip_layouts', default=False, action='store_true',\n",
    "#                         help='skip creating layouts for each plugin')\n",
    "    \n",
    "# this breaks README creation\n",
    "    parser.add_argument('-s', '--skip_layouts', default=False, action='store_true',\n",
    "                        help='skip loading layouts and do not create images')\n",
    "    \n",
    "    \n",
    "    args = parser.parse_args()\n",
    "    \n",
    "    logger.root.setLevel(args.log_level)\n",
    "    \n",
    "#     args = parser.parse_known_args()\n",
    "    plugin_dict = setup_plugins(args.project_root, args.plugin_list, skip_layouts=args.skip_layouts)\n",
    "    \n",
    "    if args.skip_layouts:\n",
    "        print('Documentation will not be updated due to option \"--skip_layouts\"')\n",
    "        update_ini_file(plugin_dict)        \n",
    "    else:\n",
    "        plugin_docs = create_readme(plugin_dict, \n",
    "                                    project_root=args.project_root,\n",
    "                                    overwrite_images=args.overwrite_images,)\n",
    "    \n",
    "        update_plugin_docs(plugin_docs, doc_path=args.documentation_path)\n",
    "    \n",
    "    return plugin_dict\n",
    "    "
   ]
  },
  {
   "cell_type": "code",
   "execution_count": 36,
   "metadata": {},
   "outputs": [
    {
     "name": "stderr",
     "output_type": "stream",
     "text": [
      "INFO:root:section: [.............text.............]\n",
      "INFO:root:section: [.........attribution..........]\n",
      "INFO:root:section: [.............time.............]\n",
      "INFO:root:[[____setting blocks____]]\n",
      "INFO:root:section: [_____________text_____________]\n",
      "INFO:root:section: [_________attribution__________]\n",
      "INFO:root:section: [_____________time_____________]\n",
      "INFO:root:the text will spill outside of padded area using these values\n",
      "INFO:root:update function for reddit_quote\n"
     ]
    },
    {
     "name": "stdout",
     "output_type": "stream",
     "text": [
      "updating documents...\n",
      "found plugin reddit_quote\n",
      "adding layout: layout\n"
     ]
    },
    {
     "name": "stderr",
     "output_type": "stream",
     "text": [
      "INFO:root:caching data\n",
      "INFO:root:section: [.............text.............]\n",
      "INFO:root:section: [.........attribution..........]\n",
      "INFO:root:section: [.............time.............]\n",
      "INFO:root:[[____setting blocks____]]\n",
      "INFO:root:section: [_____________text_____________]\n",
      "INFO:root:section: [_________attribution__________]\n",
      "INFO:root:section: [_____________time_____________]\n",
      "INFO:root:the text will spill outside of padded area using these values\n",
      "INFO:root:update function for reddit_quote\n",
      "INFO:root:section: [.............text.............]\n",
      "INFO:root:section: [.........attribution..........]\n",
      "INFO:root:section: [.............time.............]\n",
      "INFO:root:[[____setting blocks____]]\n",
      "INFO:root:section: [_____________text_____________]\n",
      "INFO:root:section: [_________attribution__________]\n",
      "INFO:root:section: [_____________time_____________]\n",
      "INFO:root:the text will spill outside of padded area using these values\n",
      "INFO:root:update function for reddit_quote\n",
      "INFO:root:section: [.............text.............]\n",
      "INFO:root:section: [.........attribution..........]\n",
      "INFO:root:[[____setting blocks____]]\n"
     ]
    },
    {
     "name": "stdout",
     "output_type": "stream",
     "text": [
      "adding layout: quote\n",
      "adding layout: quote_inverse\n",
      "adding layout: quote_small_screen\n"
     ]
    },
    {
     "name": "stderr",
     "output_type": "stream",
     "text": [
      "INFO:root:section: [_____________text_____________]\n",
      "INFO:root:section: [_________attribution__________]\n",
      "INFO:root:update function for reddit_quote\n",
      "INFO:root:section: [...........coverart...........]\n",
      "INFO:root:section: [............artist............]\n",
      "INFO:root:section: [............album.............]\n",
      "INFO:root:section: [............title.............]\n",
      "INFO:root:[[____setting blocks____]]\n",
      "INFO:root:section: [___________coverart___________]\n",
      "INFO:root:section: [____________artist____________]\n"
     ]
    },
    {
     "name": "stdout",
     "output_type": "stream",
     "text": [
      "found plugin librespot_client\n",
      "adding layout: layout\n"
     ]
    },
    {
     "name": "stderr",
     "output_type": "stream",
     "text": [
      "INFO:root:section: [____________album_____________]\n",
      "INFO:root:section: [____________title_____________]\n",
      "ERROR:root:cannot proceed: failed to pull Spotify token from librespot at url: http://localhost:24879/token/user-read-playback-state\n",
      "ERROR:root:HTTPConnectionPool(host='localhost', port=24879): Max retries exceeded with url: /token/user-read-playback-state (Caused by NewConnectionError('<urllib3.connection.HTTPConnection object at 0xac65d7f0>: Failed to establish a new connection: [Errno 111] Connection refused'))\n",
      "INFO:root:section: [............title.............]\n",
      "INFO:root:section: [............artist............]\n",
      "INFO:root:section: [............album.............]\n",
      "INFO:root:[[____setting blocks____]]\n",
      "INFO:root:section: [____________title_____________]\n"
     ]
    },
    {
     "name": "stdout",
     "output_type": "stream",
     "text": [
      "adding layout: three_rows_text_only\n"
     ]
    },
    {
     "name": "stderr",
     "output_type": "stream",
     "text": [
      "INFO:root:section: [____________artist____________]\n",
      "INFO:root:section: [____________album_____________]\n",
      "ERROR:root:cannot proceed: failed to pull Spotify token from librespot at url: http://localhost:24879/token/user-read-playback-state\n",
      "ERROR:root:HTTPConnectionPool(host='localhost', port=24879): Max retries exceeded with url: /token/user-read-playback-state (Caused by NewConnectionError('<urllib3.connection.HTTPConnection object at 0xac6780b8>: Failed to establish a new connection: [Errno 111] Connection refused'))\n",
      "INFO:root:section: [...........coverart...........]\n",
      "INFO:root:section: [............artist............]\n",
      "INFO:root:section: [............album.............]\n",
      "INFO:root:section: [............title.............]\n",
      "INFO:root:[[____setting blocks____]]\n",
      "INFO:root:section: [___________coverart___________]\n",
      "INFO:root:section: [____________artist____________]\n"
     ]
    },
    {
     "name": "stdout",
     "output_type": "stream",
     "text": [
      "adding layout: two_column_three_row\n"
     ]
    },
    {
     "name": "stderr",
     "output_type": "stream",
     "text": [
      "INFO:root:section: [____________album_____________]\n",
      "INFO:root:section: [____________title_____________]\n",
      "ERROR:root:cannot proceed: failed to pull Spotify token from librespot at url: http://localhost:24879/token/user-read-playback-state\n",
      "ERROR:root:HTTPConnectionPool(host='localhost', port=24879): Max retries exceeded with url: /token/user-read-playback-state (Caused by NewConnectionError('<urllib3.connection.HTTPConnection object at 0xac678760>: Failed to establish a new connection: [Errno 111] Connection refused'))\n",
      "INFO:root:section: [............title.............]\n",
      "INFO:root:section: [............artist............]\n",
      "INFO:root:[[____setting blocks____]]\n",
      "INFO:root:section: [____________title_____________]\n"
     ]
    },
    {
     "name": "stdout",
     "output_type": "stream",
     "text": [
      "adding layout: two_rows_text_only\n"
     ]
    },
    {
     "name": "stderr",
     "output_type": "stream",
     "text": [
      "INFO:root:section: [____________artist____________]\n",
      "ERROR:root:cannot proceed: failed to pull Spotify token from librespot at url: http://localhost:24879/token/user-read-playback-state\n",
      "ERROR:root:HTTPConnectionPool(host='localhost', port=24879): Max retries exceeded with url: /token/user-read-playback-state (Caused by NewConnectionError('<urllib3.connection.HTTPConnection object at 0xac65d688>: Failed to establish a new connection: [Errno 111] Connection refused'))\n",
      "INFO:root:section: [...........moonrise...........]\n",
      "INFO:root:section: [...........moonset............]\n",
      "INFO:root:section: [..........image_file..........]\n",
      "INFO:root:section: [..........phase_desc..........]\n",
      "INFO:root:[[____setting blocks____]]\n",
      "INFO:root:section: [___________moonrise___________]\n",
      "INFO:root:section: [___________moonset____________]\n"
     ]
    },
    {
     "name": "stdout",
     "output_type": "stream",
     "text": [
      "found plugin moon_phase\n",
      "adding layout: layout\n"
     ]
    },
    {
     "name": "stderr",
     "output_type": "stream",
     "text": [
      "INFO:root:section: [__________image_file__________]\n",
      "WARNING:root:fill and background are identical, this will likely result in no visible image\n",
      "INFO:root:section: [__________phase_desc__________]\n",
      "INFO:root:[Errno 2] No such file or directory: '/tmp/pen5_ack/moon_phase.json'\n",
      "INFO:root:section: [...........moonrise...........]\n",
      "INFO:root:section: [...........moonset............]\n",
      "INFO:root:section: [..........image_file..........]\n",
      "INFO:root:section: [..........phase_desc..........]\n",
      "INFO:root:[[____setting blocks____]]\n",
      "INFO:root:section: [___________moonrise___________]\n",
      "INFO:root:section: [___________moonset____________]\n"
     ]
    },
    {
     "name": "stdout",
     "output_type": "stream",
     "text": [
      "adding layout: moon_data\n"
     ]
    },
    {
     "name": "stderr",
     "output_type": "stream",
     "text": [
      "INFO:root:section: [__________image_file__________]\n",
      "WARNING:root:fill and background are identical, this will likely result in no visible image\n",
      "INFO:root:section: [__________phase_desc__________]\n",
      "INFO:root:section: [..........image_file..........]\n",
      "INFO:root:[[____setting blocks____]]\n",
      "INFO:root:section: [__________image_file__________]\n",
      "WARNING:root:fill and background are identical, this will likely result in no visible image\n",
      "INFO:root:section: [...........coverart...........]\n",
      "INFO:root:section: [............artist............]\n",
      "INFO:root:section: [............album.............]\n",
      "INFO:root:section: [............title.............]\n"
     ]
    },
    {
     "name": "stdout",
     "output_type": "stream",
     "text": [
      "adding layout: moon_only\n",
      "found plugin lms_client\n",
      "adding layout: layout\n"
     ]
    },
    {
     "name": "stderr",
     "output_type": "stream",
     "text": [
      "INFO:root:[[____setting blocks____]]\n",
      "INFO:root:section: [___________coverart___________]\n",
      "INFO:root:section: [____________artist____________]\n",
      "INFO:root:section: [____________album_____________]\n",
      "INFO:root:section: [____________title_____________]\n",
      "INFO:root:searching for LMS servers for 5 seconds\n",
      "WARNING:root:could not get now playing information for \"MacPlay\": ValueError invalid value \"None\" for \"player_id\"\n",
      "WARNING:root:check player_name in config file. Is \"MacPlay\" connected to the LMS server?\n",
      "ERROR:root:failed to update due to error: Could not open file \"None: MacPlay\": [Errno 2] No such file or directory: 'None: MacPlay'\n",
      "INFO:root:section: [............title.............]\n",
      "INFO:root:section: [............artist............]\n",
      "INFO:root:section: [............album.............]\n",
      "INFO:root:[[____setting blocks____]]\n",
      "INFO:root:section: [____________title_____________]\n"
     ]
    },
    {
     "name": "stdout",
     "output_type": "stream",
     "text": [
      "adding layout: three_rows_text_only\n"
     ]
    },
    {
     "name": "stderr",
     "output_type": "stream",
     "text": [
      "INFO:root:section: [____________artist____________]\n",
      "INFO:root:section: [____________album_____________]\n",
      "INFO:root:searching for LMS servers for 5 seconds\n",
      "WARNING:root:could not get now playing information for \"MacPlay\": ValueError invalid value \"None\" for \"player_id\"\n",
      "WARNING:root:check player_name in config file. Is \"MacPlay\" connected to the LMS server?\n",
      "INFO:root:section: [...........coverart...........]\n",
      "INFO:root:section: [............artist............]\n",
      "INFO:root:section: [............album.............]\n",
      "INFO:root:section: [............title.............]\n",
      "INFO:root:[[____setting blocks____]]\n",
      "INFO:root:section: [___________coverart___________]\n",
      "INFO:root:section: [____________artist____________]\n",
      "INFO:root:section: [____________album_____________]\n"
     ]
    },
    {
     "name": "stdout",
     "output_type": "stream",
     "text": [
      "adding layout: two_column_three_row\n"
     ]
    },
    {
     "name": "stderr",
     "output_type": "stream",
     "text": [
      "INFO:root:section: [____________title_____________]\n",
      "INFO:root:searching for LMS servers for 5 seconds\n",
      "WARNING:root:could not get now playing information for \"MacPlay\": ValueError invalid value \"None\" for \"player_id\"\n",
      "WARNING:root:check player_name in config file. Is \"MacPlay\" connected to the LMS server?\n",
      "ERROR:root:failed to update due to error: Could not open file \"None: MacPlay\": [Errno 2] No such file or directory: 'None: MacPlay'\n",
      "INFO:root:section: [............title.............]\n",
      "INFO:root:section: [............artist............]\n",
      "INFO:root:[[____setting blocks____]]\n",
      "INFO:root:section: [____________title_____________]\n"
     ]
    },
    {
     "name": "stdout",
     "output_type": "stream",
     "text": [
      "adding layout: two_rows_text_only\n"
     ]
    },
    {
     "name": "stderr",
     "output_type": "stream",
     "text": [
      "INFO:root:section: [____________artist____________]\n",
      "INFO:root:searching for LMS servers for 5 seconds\n",
      "WARNING:root:could not get now playing information for \"MacPlay\": ValueError invalid value \"None\" for \"player_id\"\n",
      "WARNING:root:check player_name in config file. Is \"MacPlay\" connected to the LMS server?\n",
      "INFO:root:section: [...........app_name...........]\n",
      "INFO:root:section: [...........version............]\n",
      "INFO:root:section: [.............url..............]\n"
     ]
    },
    {
     "name": "stdout",
     "output_type": "stream",
     "text": [
      "found plugin splash_screen\n",
      "adding layout: layout\n"
     ]
    },
    {
     "name": "stderr",
     "output_type": "stream",
     "text": [
      "INFO:root:[[____setting blocks____]]\n",
      "INFO:root:section: [___________app_name___________]\n",
      "INFO:root:section: [___________version____________]\n",
      "INFO:root:section: [_____________url______________]\n",
      "INFO:root:section: [..........digit_time..........]\n",
      "INFO:root:[[____setting blocks____]]\n",
      "INFO:root:section: [__________digit_time__________]\n"
     ]
    },
    {
     "name": "stdout",
     "output_type": "stream",
     "text": [
      "found plugin basic_clock\n",
      "adding layout: basic_clock\n"
     ]
    },
    {
     "name": "stderr",
     "output_type": "stream",
     "text": [
      "INFO:root:section: [..........digit_time..........]\n",
      "INFO:root:[[____setting blocks____]]\n",
      "INFO:root:section: [__________digit_time__________]\n"
     ]
    },
    {
     "name": "stdout",
     "output_type": "stream",
     "text": [
      "adding layout: layout\n"
     ]
    },
    {
     "name": "stderr",
     "output_type": "stream",
     "text": [
      "INFO:root:section: [..........image_file..........]\n",
      "INFO:root:[[____setting blocks____]]\n",
      "INFO:root:section: [__________image_file__________]\n"
     ]
    },
    {
     "name": "stdout",
     "output_type": "stream",
     "text": [
      "found plugin xkcd_comic\n",
      "adding layout: comic_only\n"
     ]
    },
    {
     "name": "stderr",
     "output_type": "stream",
     "text": [
      "INFO:root:section: [..........image_file..........]\n",
      "INFO:root:section: [..........safe_title..........]\n",
      "INFO:root:[[____setting blocks____]]\n",
      "INFO:root:section: [__________image_file__________]\n",
      "INFO:root:section: [__________safe_title__________]\n"
     ]
    },
    {
     "name": "stdout",
     "output_type": "stream",
     "text": [
      "adding layout: comic_title\n"
     ]
    },
    {
     "name": "stderr",
     "output_type": "stream",
     "text": [
      "INFO:root:section: [..........image_file..........]\n",
      "INFO:root:section: [..........safe_title..........]\n",
      "INFO:root:section: [.............alt..............]\n",
      "INFO:root:[[____setting blocks____]]\n",
      "INFO:root:section: [__________image_file__________]\n",
      "INFO:root:section: [__________safe_title__________]\n"
     ]
    },
    {
     "name": "stdout",
     "output_type": "stream",
     "text": [
      "adding layout: comic_title_alttext\n"
     ]
    },
    {
     "name": "stderr",
     "output_type": "stream",
     "text": [
      "INFO:root:section: [_____________alt______________]\n",
      "INFO:root:section: [..........image_file..........]\n",
      "INFO:root:section: [..........safe_title..........]\n",
      "INFO:root:section: [.............alt..............]\n",
      "INFO:root:[[____setting blocks____]]\n",
      "INFO:root:section: [__________image_file__________]\n",
      "INFO:root:section: [__________safe_title__________]\n"
     ]
    },
    {
     "name": "stdout",
     "output_type": "stream",
     "text": [
      "adding layout: layout\n"
     ]
    },
    {
     "name": "stderr",
     "output_type": "stream",
     "text": [
      "INFO:root:section: [_____________alt______________]\n",
      "INFO:root:section: [...........wordtime...........]\n",
      "INFO:root:section: [.............time.............]\n",
      "INFO:root:[[____setting blocks____]]\n",
      "INFO:root:section: [___________wordtime___________]\n",
      "INFO:root:section: [_____________time_____________]\n"
     ]
    },
    {
     "name": "stdout",
     "output_type": "stream",
     "text": [
      "found plugin word_clock\n",
      "adding layout: layout\n"
     ]
    },
    {
     "name": "stderr",
     "output_type": "stream",
     "text": [
      "INFO:root:update_function for None\n",
      "INFO:root:section: [...........wordtime...........]\n",
      "INFO:root:section: [.............time.............]\n",
      "INFO:root:[[____setting blocks____]]\n",
      "INFO:root:section: [___________wordtime___________]\n"
     ]
    },
    {
     "name": "stdout",
     "output_type": "stream",
     "text": [
      "adding layout: word_clock\n"
     ]
    },
    {
     "name": "stderr",
     "output_type": "stream",
     "text": [
      "INFO:root:section: [_____________time_____________]\n",
      "INFO:root:update_function for None\n",
      "INFO:root:section: [...........wordtime...........]\n",
      "INFO:root:section: [.............time.............]\n",
      "INFO:root:[[____setting blocks____]]\n",
      "INFO:root:section: [___________wordtime___________]\n"
     ]
    },
    {
     "name": "stdout",
     "output_type": "stream",
     "text": [
      "adding layout: word_clock_lg\n"
     ]
    },
    {
     "name": "stderr",
     "output_type": "stream",
     "text": [
      "INFO:root:section: [_____________time_____________]\n",
      "INFO:root:update_function for None\n",
      "INFO:root:section: [............string............]\n",
      "INFO:root:section: [.............time.............]\n",
      "INFO:root:section: [............extra.............]\n",
      "INFO:root:section: [............image.............]\n",
      "INFO:root:[[____setting blocks____]]\n",
      "INFO:root:section: [____________string____________]\n"
     ]
    },
    {
     "name": "stdout",
     "output_type": "stream",
     "text": [
      "found plugin demo_plugin\n",
      "adding layout: layout\n"
     ]
    },
    {
     "name": "stderr",
     "output_type": "stream",
     "text": [
      "INFO:root:section: [_____________time_____________]\n",
      "INFO:root:section: [____________extra_____________]\n",
      "INFO:root:section: [____________image_____________]\n",
      "INFO:root:section: [............string............]\n",
      "INFO:root:section: [.............time.............]\n",
      "INFO:root:section: [............extra.............]\n",
      "INFO:root:section: [............image.............]\n",
      "INFO:root:[[____setting blocks____]]\n",
      "INFO:root:section: [____________string____________]\n"
     ]
    },
    {
     "name": "stdout",
     "output_type": "stream",
     "text": [
      "adding layout: my_layout_one\n"
     ]
    },
    {
     "name": "stderr",
     "output_type": "stream",
     "text": [
      "INFO:root:section: [_____________time_____________]\n",
      "INFO:root:section: [____________extra_____________]\n",
      "INFO:root:section: [____________image_____________]\n",
      "INFO:root:section: [............comic.............]\n",
      "INFO:root:section: [...........caption............]\n",
      "INFO:root:section: [.............time.............]\n",
      "INFO:root:[[____setting blocks____]]\n",
      "INFO:root:section: [____________comic_____________]\n",
      "INFO:root:section: [___________caption____________]\n",
      "INFO:root:section: [_____________time_____________]\n"
     ]
    },
    {
     "name": "stdout",
     "output_type": "stream",
     "text": [
      "found plugin newyorker\n",
      "adding layout: default\n"
     ]
    },
    {
     "name": "stderr",
     "output_type": "stream",
     "text": [
      "INFO:root:returned data: {'comic': PosixPath('/tmp/pen5_ack/New Yorker Cartoon/62013a2a31615c164ec9e9d4'), 'caption': 'Let the games begin!', 'time': '12:53'}\n",
      "INFO:paperpi.library.CacheFiles:removing stale files in /tmp/pen5_ack/New Yorker Cartoon older than 518400 seconds\n",
      "INFO:root:section: [............comic.............]\n",
      "INFO:root:section: [...........caption............]\n",
      "INFO:root:section: [.............time.............]\n",
      "INFO:root:[[____setting blocks____]]\n",
      "INFO:root:section: [____________comic_____________]\n",
      "INFO:root:section: [___________caption____________]\n",
      "INFO:root:section: [_____________time_____________]\n"
     ]
    },
    {
     "name": "stdout",
     "output_type": "stream",
     "text": [
      "adding layout: layout\n"
     ]
    },
    {
     "name": "stderr",
     "output_type": "stream",
     "text": [
      "INFO:root:returned data: {'comic': PosixPath('/tmp/pen5_ack/New Yorker Cartoon/62013a2a31615c164ec9e9d4'), 'caption': 'Let the games begin!', 'time': '12:53'}\n",
      "INFO:paperpi.library.CacheFiles:removing stale files in /tmp/pen5_ack/New Yorker Cartoon older than 518400 seconds\n",
      "INFO:root:section: [..........digit_time..........]\n",
      "INFO:root:section: [.............msg..............]\n",
      "INFO:root:[[____setting blocks____]]\n",
      "INFO:root:section: [__________digit_time__________]\n",
      "INFO:root:section: [_____________msg______________]\n"
     ]
    },
    {
     "name": "stdout",
     "output_type": "stream",
     "text": [
      "found plugin default\n",
      "adding layout: default\n"
     ]
    },
    {
     "name": "stderr",
     "output_type": "stream",
     "text": [
      "INFO:root:section: [..........digit_time..........]\n",
      "INFO:root:section: [.............msg..............]\n",
      "INFO:root:[[____setting blocks____]]\n",
      "INFO:root:section: [__________digit_time__________]\n",
      "INFO:root:section: [_____________msg______________]\n"
     ]
    },
    {
     "name": "stdout",
     "output_type": "stream",
     "text": [
      "adding layout: layout\n"
     ]
    },
    {
     "name": "stderr",
     "output_type": "stream",
     "text": [
      "INFO:root:section: [......forecast_location.......]\n",
      "INFO:root:section: [......time_updated_local......]\n",
      "INFO:root:section: [...000_forecast_time_local....]\n",
      "INFO:root:section: [000_data_next_1_hours_summary_symbol_code_image]\n",
      "INFO:root:section: [000_data_instant_details_wind_barb_image]\n",
      "INFO:root:section: [000_data_instant_details_air_temperature]\n",
      "INFO:root:section: [...006_forecast_time_local....]\n",
      "INFO:root:section: [006_data_next_1_hours_summary_symbol_code_image]\n",
      "INFO:root:section: [006_data_instant_details_wind_barb_image]\n",
      "INFO:root:section: [006_data_instant_details_air_temperature]\n",
      "INFO:root:section: [...012_forecast_time_local....]\n",
      "INFO:root:section: [012_data_next_1_hours_summary_symbol_code_image]\n",
      "INFO:root:section: [012_data_instant_details_wind_barb_image]\n",
      "INFO:root:section: [012_data_instant_details_air_temperature]\n",
      "INFO:root:[[____setting blocks____]]\n",
      "INFO:root:section: [______forecast_location_______]\n"
     ]
    },
    {
     "name": "stdout",
     "output_type": "stream",
     "text": [
      "found plugin met_no\n",
      "adding layout: layout\n"
     ]
    },
    {
     "name": "stderr",
     "output_type": "stream",
     "text": [
      "INFO:root:section: [______time_updated_local______]\n",
      "INFO:root:section: [___000_forecast_time_local____]\n",
      "INFO:root:section: [000_data_next_1_hours_summary_symbol_code_image]\n",
      "INFO:root:section: [000_data_instant_details_wind_barb_image]\n",
      "INFO:root:section: [000_data_instant_details_air_temperature]\n",
      "INFO:root:section: [___006_forecast_time_local____]\n",
      "INFO:root:section: [006_data_next_1_hours_summary_symbol_code_image]\n",
      "INFO:root:section: [006_data_instant_details_wind_barb_image]\n",
      "INFO:root:section: [006_data_instant_details_air_temperature]\n",
      "INFO:root:section: [___012_forecast_time_local____]\n",
      "INFO:root:section: [012_data_next_1_hours_summary_symbol_code_image]\n",
      "INFO:root:section: [012_data_instant_details_wind_barb_image]\n",
      "INFO:root:section: [012_data_instant_details_air_temperature]\n",
      "INFO:root:section: [......forecast_location.......]\n",
      "INFO:root:section: [000_data_next_1_hours_summary_symbol_code_image]\n",
      "INFO:root:section: [000_data_instant_details_wind_barb_image]\n",
      "INFO:root:section: [000_data_instant_details_wind_speed]\n",
      "INFO:root:section: [000_data_instant_details_air_temperature]\n",
      "INFO:root:section: [000_data_next_1_hours_details_precipitation_amount]\n",
      "INFO:root:section: [...000_forecast_time_local....]\n",
      "INFO:root:section: [006_data_next_1_hours_summary_symbol_code_image]\n",
      "INFO:root:section: [006_data_instant_details_wind_barb_image]\n",
      "INFO:root:section: [006_data_instant_details_wind_speed]\n",
      "INFO:root:section: [006_data_instant_details_air_temperature]\n",
      "INFO:root:section: [000_data_next_6_hours_details_precipitation_amount]\n",
      "INFO:root:section: [...006_forecast_time_local....]\n",
      "INFO:root:section: [012_data_next_1_hours_summary_symbol_code_image]\n",
      "INFO:root:section: [012_data_instant_details_wind_barb_image]\n",
      "INFO:root:section: [012_data_instant_details_wind_speed]\n",
      "INFO:root:section: [012_data_instant_details_air_temperature]\n",
      "INFO:root:section: [011_data_next_1_hours_details_precipitation_amount]\n",
      "INFO:root:section: [...012_forecast_time_local....]\n",
      "INFO:root:[[____setting blocks____]]\n",
      "INFO:root:section: [______forecast_location_______]\n",
      "INFO:root:section: [000_data_next_1_hours_summary_symbol_code_image]\n"
     ]
    },
    {
     "name": "stdout",
     "output_type": "stream",
     "text": [
      "adding layout: three_column_icon_wind_temp_precip\n"
     ]
    },
    {
     "name": "stderr",
     "output_type": "stream",
     "text": [
      "INFO:root:section: [000_data_instant_details_wind_barb_image]\n",
      "INFO:root:section: [000_data_instant_details_wind_speed]\n",
      "INFO:root:section: [000_data_instant_details_air_temperature]\n",
      "INFO:root:section: [000_data_next_1_hours_details_precipitation_amount]\n",
      "INFO:root:section: [___000_forecast_time_local____]\n",
      "INFO:root:section: [006_data_next_1_hours_summary_symbol_code_image]\n",
      "INFO:root:section: [006_data_instant_details_wind_barb_image]\n",
      "INFO:root:section: [006_data_instant_details_wind_speed]\n",
      "INFO:root:section: [006_data_instant_details_air_temperature]\n",
      "INFO:root:section: [000_data_next_6_hours_details_precipitation_amount]\n",
      "INFO:root:section: [___006_forecast_time_local____]\n",
      "INFO:root:section: [012_data_next_1_hours_summary_symbol_code_image]\n",
      "INFO:root:section: [012_data_instant_details_wind_barb_image]\n",
      "INFO:root:section: [012_data_instant_details_wind_speed]\n",
      "INFO:root:section: [012_data_instant_details_air_temperature]\n",
      "INFO:root:section: [011_data_next_1_hours_details_precipitation_amount]\n",
      "INFO:root:section: [___012_forecast_time_local____]\n",
      "INFO:root:section: [......forecast_location.......]\n",
      "INFO:root:section: [......time_updated_local......]\n",
      "INFO:root:section: [...000_forecast_time_local....]\n",
      "INFO:root:section: [000_data_next_1_hours_summary_symbol_code_image]\n",
      "INFO:root:section: [000_data_instant_details_wind_barb_image]\n",
      "INFO:root:section: [000_data_instant_details_air_temperature]\n",
      "INFO:root:section: [...006_forecast_time_local....]\n",
      "INFO:root:section: [006_data_next_1_hours_summary_symbol_code_image]\n",
      "INFO:root:section: [006_data_instant_details_wind_barb_image]\n",
      "INFO:root:section: [006_data_instant_details_air_temperature]\n",
      "INFO:root:section: [...012_forecast_time_local....]\n",
      "INFO:root:section: [012_data_next_1_hours_summary_symbol_code_image]\n",
      "INFO:root:section: [012_data_instant_details_wind_barb_image]\n",
      "INFO:root:section: [012_data_instant_details_air_temperature]\n",
      "INFO:root:[[____setting blocks____]]\n",
      "INFO:root:section: [______forecast_location_______]\n",
      "INFO:root:section: [______time_updated_local______]\n"
     ]
    },
    {
     "name": "stdout",
     "output_type": "stream",
     "text": [
      "adding layout: three_row_icon_wind_temp\n"
     ]
    },
    {
     "name": "stderr",
     "output_type": "stream",
     "text": [
      "INFO:root:section: [___000_forecast_time_local____]\n",
      "INFO:root:section: [000_data_next_1_hours_summary_symbol_code_image]\n",
      "INFO:root:section: [000_data_instant_details_wind_barb_image]\n",
      "INFO:root:section: [000_data_instant_details_air_temperature]\n",
      "INFO:root:section: [___006_forecast_time_local____]\n",
      "INFO:root:section: [006_data_next_1_hours_summary_symbol_code_image]\n",
      "INFO:root:section: [006_data_instant_details_wind_barb_image]\n",
      "INFO:root:section: [006_data_instant_details_air_temperature]\n",
      "INFO:root:section: [___012_forecast_time_local____]\n",
      "INFO:root:section: [012_data_next_1_hours_summary_symbol_code_image]\n",
      "INFO:root:section: [012_data_instant_details_wind_barb_image]\n",
      "INFO:root:section: [012_data_instant_details_air_temperature]\n",
      "INFO:root:section: [000_data_next_1_hours_summary_symbol_code_image]\n",
      "INFO:root:section: [000_data_instant_details_wind_barb_image]\n",
      "INFO:root:section: [......forecast_location.......]\n",
      "INFO:root:section: [............t_max.............]\n",
      "INFO:root:section: [............t_min.............]\n",
      "INFO:root:section: [000_data_next_6_hours_details_air_temperature_min]\n",
      "INFO:root:section: [000_data_next_6_hours_details_air_temperature_max]\n",
      "INFO:root:section: [.......t_precipitation........]\n",
      "INFO:root:section: [000_data_next_1_hours_details_precipitation_amount]\n",
      "INFO:root:[[____setting blocks____]]\n",
      "INFO:root:section: [000_data_next_1_hours_summary_symbol_code_image]\n",
      "INFO:root:section: [000_data_instant_details_wind_barb_image]\n",
      "INFO:root:section: [______forecast_location_______]\n"
     ]
    },
    {
     "name": "stdout",
     "output_type": "stream",
     "text": [
      "adding layout: two_column_icon_wind_temp_precip\n"
     ]
    },
    {
     "name": "stderr",
     "output_type": "stream",
     "text": [
      "INFO:root:section: [____________t_max_____________]\n",
      "INFO:root:section: [____________t_min_____________]\n",
      "INFO:root:section: [000_data_next_6_hours_details_air_temperature_min]\n",
      "INFO:root:section: [000_data_next_6_hours_details_air_temperature_max]\n",
      "INFO:root:section: [_______t_precipitation________]\n",
      "INFO:root:section: [000_data_next_1_hours_details_precipitation_amount]\n",
      "INFO:root:section: [.........update_time..........]\n",
      "INFO:root:section: [..........coin_file...........]\n",
      "INFO:root:section: [.........price_string.........]\n",
      "INFO:root:section: [......change_vol_string.......]\n",
      "INFO:root:section: [..........sparkline...........]\n",
      "INFO:root:section: [...........qr_code............]\n",
      "INFO:root:section: [...........rss_feed...........]\n",
      "INFO:root:[[____setting blocks____]]\n",
      "INFO:root:section: [_________update_time__________]\n",
      "INFO:root:section: [__________coin_file___________]\n",
      "INFO:root:section: [_________price_string_________]\n",
      "INFO:root:section: [______change_vol_string_______]\n",
      "INFO:root:section: [__________sparkline___________]\n",
      "INFO:root:section: [___________qr_code____________]\n",
      "INFO:root:section: [___________rss_feed___________]\n"
     ]
    },
    {
     "name": "stdout",
     "output_type": "stream",
     "text": [
      "found plugin crypto\n",
      "adding layout: layout\n"
     ]
    },
    {
     "name": "stderr",
     "output_type": "stream",
     "text": [
      "INFO:paperpi.plugins.crypto.crypto:caching data from coingeko\n",
      "INFO:paperpi.plugins.crypto.crypto:caching data from feed\n",
      "INFO:root:section: [.........update_time..........]\n",
      "INFO:root:section: [..........coin_file...........]\n",
      "INFO:root:section: [.........price_string.........]\n",
      "INFO:root:section: [......change_vol_string.......]\n",
      "INFO:root:section: [..........sparkline...........]\n",
      "INFO:root:section: [...........qr_code............]\n",
      "INFO:root:section: [...........rss_feed...........]\n",
      "INFO:root:[[____setting blocks____]]\n",
      "INFO:root:section: [_________update_time__________]\n",
      "INFO:root:section: [__________coin_file___________]\n",
      "INFO:root:section: [_________price_string_________]\n",
      "INFO:root:section: [______change_vol_string_______]\n",
      "INFO:root:section: [__________sparkline___________]\n",
      "INFO:root:section: [___________qr_code____________]\n",
      "INFO:root:section: [___________rss_feed___________]\n"
     ]
    },
    {
     "name": "stdout",
     "output_type": "stream",
     "text": [
      "adding layout: ticker_hd\n"
     ]
    },
    {
     "name": "stderr",
     "output_type": "stream",
     "text": [
      "INFO:paperpi.plugins.crypto.crypto:caching data from feed\n",
      "INFO:paperpi.plugins.crypto.crypto:using cached image: /tmp/pen5_ack/None_bitcoin_v_usd/bitcoin.png\n",
      "INFO:root:section: [..........coin_file...........]\n",
      "INFO:root:section: [.........price_string.........]\n",
      "INFO:root:section: [......change_vol_string.......]\n",
      "INFO:root:section: [..........sparkline...........]\n",
      "INFO:root:section: [.........update_time..........]\n",
      "INFO:root:[[____setting blocks____]]\n",
      "INFO:root:section: [__________coin_file___________]\n",
      "INFO:root:section: [_________price_string_________]\n",
      "INFO:root:the text will spill outside of padded area using these values\n",
      "INFO:root:section: [______change_vol_string_______]\n",
      "INFO:root:the text will spill outside of padded area using these values\n",
      "INFO:root:section: [__________sparkline___________]\n",
      "INFO:root:section: [_________update_time__________]\n"
     ]
    },
    {
     "name": "stdout",
     "output_type": "stream",
     "text": [
      "adding layout: ticker_simple\n"
     ]
    },
    {
     "name": "stderr",
     "output_type": "stream",
     "text": [
      "INFO:paperpi.plugins.crypto.crypto:caching data from feed\n",
      "INFO:paperpi.plugins.crypto.crypto:using cached image: /tmp/pen5_ack/None_bitcoin_v_usd/bitcoin.png\n",
      "INFO:root:the text will spill outside of padded area using these values\n",
      "INFO:root:the text will spill outside of padded area using these values\n",
      "INFO:root:the text will spill outside of padded area using these values\n",
      "INFO:root:section: [...........bin_img............]\n",
      "INFO:root:section: [.............time.............]\n",
      "INFO:root:[[____setting blocks____]]\n",
      "INFO:root:section: [___________bin_img____________]\n",
      "INFO:root:section: [_____________time_____________]\n"
     ]
    },
    {
     "name": "stdout",
     "output_type": "stream",
     "text": [
      "found plugin dec_binary_clock\n",
      "adding layout: dec_binary_clock\n"
     ]
    },
    {
     "name": "stderr",
     "output_type": "stream",
     "text": [
      "INFO:root:section: [...........bin_img............]\n",
      "INFO:root:section: [.............time.............]\n",
      "INFO:root:[[____setting blocks____]]\n",
      "INFO:root:section: [___________bin_img____________]\n",
      "INFO:root:section: [_____________time_____________]\n"
     ]
    },
    {
     "name": "stdout",
     "output_type": "stream",
     "text": [
      "adding layout: layout\n",
      "Processing plugins: reddit_quote\n",
      "   processing layout: layout\n",
      "   image exists, skipping save\n",
      "   processing layout: quote\n",
      "   image exists, skipping save\n",
      "   processing layout: quote_inverse\n",
      "   image exists, skipping save\n",
      "   processing layout: quote_small_screen\n",
      "   image exists, skipping save\n",
      "   writing README files\n",
      "Processing plugins: librespot_client\n",
      "   processing layout: layout\n",
      "   image exists, skipping save\n",
      "   processing layout: three_rows_text_only\n",
      "   image exists, skipping save\n",
      "   processing layout: two_column_three_row\n",
      "   image exists, skipping save\n",
      "   processing layout: two_rows_text_only\n",
      "   image exists, skipping save\n",
      "   writing README files\n",
      "Processing plugins: moon_phase\n",
      "   processing layout: layout\n",
      "   image exists, skipping save\n",
      "   processing layout: moon_data\n",
      "   image exists, skipping save\n",
      "   processing layout: moon_only\n",
      "   image exists, skipping save\n",
      "   writing README files\n",
      "Processing plugins: lms_client\n",
      "   processing layout: layout\n",
      "   image exists, skipping save\n",
      "   processing layout: three_rows_text_only\n",
      "   image exists, skipping save\n",
      "   processing layout: two_column_three_row\n",
      "   image exists, skipping save\n",
      "   processing layout: two_rows_text_only\n",
      "   image exists, skipping save\n",
      "   writing README files\n",
      "Processing plugins: splash_screen\n",
      "   processing layout: layout\n",
      "   image exists, skipping save\n",
      "   writing README files\n",
      "Processing plugins: basic_clock\n",
      "   processing layout: basic_clock\n",
      "   image exists, skipping save\n",
      "   processing layout: layout\n",
      "   image exists, skipping save\n",
      "   writing README files\n",
      "Processing plugins: xkcd_comic\n",
      "   processing layout: comic_only\n",
      "   image exists, skipping save\n",
      "   processing layout: comic_title\n",
      "   image exists, skipping save\n",
      "   processing layout: comic_title_alttext\n",
      "   image exists, skipping save\n",
      "   processing layout: layout\n",
      "   image exists, skipping save\n",
      "   writing README files\n",
      "Processing plugins: word_clock\n",
      "   processing layout: layout\n",
      "   image exists, skipping save\n",
      "   processing layout: word_clock\n",
      "   image exists, skipping save\n",
      "   processing layout: word_clock_lg\n",
      "   image exists, skipping save\n",
      "   writing README files\n",
      "Processing plugins: demo_plugin\n",
      "   processing layout: layout\n",
      "   image exists, skipping save\n",
      "   processing layout: my_layout_one\n",
      "   image exists, skipping save\n",
      "   writing README files\n",
      "Processing plugins: newyorker\n",
      "   processing layout: default\n",
      "   image exists, skipping save\n",
      "   processing layout: layout\n",
      "   image exists, skipping save\n",
      "   writing README files\n",
      "Processing plugins: default\n",
      "   processing layout: default\n",
      "   image exists, skipping save\n",
      "   processing layout: layout\n",
      "   image exists, skipping save\n",
      "   writing README files\n",
      "Processing plugins: met_no\n",
      "   processing layout: layout\n",
      "   image exists, skipping save\n",
      "   processing layout: three_column_icon_wind_temp_precip\n",
      "   image exists, skipping save\n",
      "   processing layout: three_row_icon_wind_temp\n",
      "   image exists, skipping save\n",
      "   processing layout: two_column_icon_wind_temp_precip\n",
      "   image exists, skipping save\n",
      "   writing README files\n",
      "Processing plugins: crypto\n",
      "   processing layout: layout\n",
      "   image exists, skipping save\n",
      "   processing layout: ticker_hd\n",
      "   image exists, skipping save\n",
      "   processing layout: ticker_simple\n",
      "   image exists, skipping save\n",
      "   writing README files\n",
      "Processing plugins: dec_binary_clock\n",
      "   processing layout: dec_binary_clock\n",
      "   image exists, skipping save\n",
      "   processing layout: layout\n",
      "   image exists, skipping save\n",
      "   writing README files\n",
      "updating Plugins.md...\n",
      "using: ../documentation/source/Plugins.md\n",
      "using postscript file: ../documentation/source/Plugins_post.md\n"
     ]
    }
   ],
   "source": [
    "if __name__ == \"__main__\":\n",
    "    if '-f' in sys.argv:\n",
    "        logger.debug('looks like this is running in a Jupyter notebook')\n",
    "        idx = sys.argv.index('-f')\n",
    "        del sys.argv[idx:idx+2]    \n",
    "    print('updating documents...')\n",
    "    r = main()"
   ]
  },
  {
   "cell_type": "code",
   "execution_count": 21,
   "metadata": {},
   "outputs": [
    {
     "name": "stdout",
     "output_type": "stream",
     "text": [
      "[NbConvertApp] Converting notebook create_docs.ipynb to python\n",
      "[NbConvertApp] Writing 14374 bytes to create_docs.py\n"
     ]
    }
   ],
   "source": [
    "!jupyter-nbconvert --to python --template python_clean create_docs.ipynb"
   ]
  },
  {
   "cell_type": "code",
   "execution_count": null,
   "metadata": {},
   "outputs": [],
   "source": []
  }
 ],
 "metadata": {
  "kernelspec": {
   "display_name": "epd_display-ApAYs8Kw",
   "language": "python",
   "name": "epd_display-apays8kw"
  },
  "language_info": {
   "codemirror_mode": {
    "name": "ipython",
    "version": 3
   },
   "file_extension": ".py",
   "mimetype": "text/x-python",
   "name": "python",
   "nbconvert_exporter": "python",
   "pygments_lexer": "ipython3",
   "version": "3.9.2"
  }
 },
 "nbformat": 4,
 "nbformat_minor": 4
}
