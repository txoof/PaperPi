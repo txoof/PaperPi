{
 "cells": [
  {
   "cell_type": "code",
   "execution_count": 1,
   "id": "3daaca49",
   "metadata": {},
   "outputs": [],
   "source": [
    "import logging\n",
    "import sys\n",
    "from pathlib import Path\n",
    "import importlib"
   ]
  },
  {
   "cell_type": "code",
   "execution_count": 2,
   "id": "5da74aa8",
   "metadata": {},
   "outputs": [],
   "source": [
    "logging.basicConfig(level='DEBUG')\n",
    "logger = logging.getLogger(__name__)"
   ]
  },
  {
   "cell_type": "code",
   "execution_count": 4,
   "id": "66f4aaa3",
   "metadata": {},
   "outputs": [],
   "source": [
    "def hidden_imports(search_path):\n",
    "    '''find the imports from the plugins\n",
    "    \n",
    "    pyinstaller cannot find the imports from the plugins because they are only\n",
    "    loaded on demand at boot\n",
    "    \n",
    "    Args:\n",
    "        search_path(str): path to plugin modules to search'''\n",
    "    search_path = Path(search_path)    \n",
    "    if not search_path in sys.path:\n",
    "        sys.path.append(f'{search_path.parts[0]}/')\n",
    "    pre_import_modules = set(sys.modules)\n",
    "\n",
    "    \n",
    "    pkg_name = '.'.join([i for i in search_path.parts if not i.startswith('.')])\n",
    "    for i in search_path.glob('*'):\n",
    "        if not i.name[0] in ('.', '_'):\n",
    "            mod_name = f'{pkg_name}.{i.name}'\n",
    "            logger.debug(f'import: {mod_name}')\n",
    "            try:\n",
    "                module = importlib.import_module(mod_name)\n",
    "            except ModuleNotFoundError as e:\n",
    "                logging.warning(f'could not import module: {e}')    \n",
    "#     # find all modules in search_path that do not start with . or _\n",
    "#     for i in search_path.glob('*'):\n",
    "#         pkg_name = '.'.join([i for i in search_path.parts if not i.startswith('.')])\n",
    "#         logger.debug(f'pkg_name: {pkg_name}')\n",
    "#         if not i.name[0] in ['.', '_']:\n",
    "#             logger.debug(f'importing module: {pkg_name}.{i.name}')\n",
    "#             module = importlib.import_module(f\"{pkg_name}.{i.name}\")\n",
    "\n",
    "    post_import_modules = set(sys.modules)\n",
    "\n",
    "    imported_modules = post_import_modules - pre_import_modules\n",
    "    \n",
    "    unique_modules = set()\n",
    "    \n",
    "    for m in imported_modules:\n",
    "        unique_modules.add(m.split('.')[0])\n",
    "        \n",
    "    \n",
    "    return unique_modules"
   ]
  },
  {
   "cell_type": "code",
   "execution_count": 5,
   "id": "1d2a2cae",
   "metadata": {},
   "outputs": [
    {
     "name": "stderr",
     "output_type": "stream",
     "text": [
      "DEBUG:__main__:import: paperpi.plugins.reddit_quote\n",
      "DEBUG:__main__:import: paperpi.plugins.librespot_client\n",
      "DEBUG:__main__:import: paperpi.plugins.moon_phase\n",
      "WARNING:root:could not import module: No module named 'pytz'\n",
      "DEBUG:__main__:import: paperpi.plugins.lms_client\n",
      "WARNING:root:could not import module: No module named 'QueryLMS'\n",
      "DEBUG:__main__:import: paperpi.plugins.splash_screen\n",
      "DEBUG:__main__:import: paperpi.plugins.basic_clock\n",
      "DEBUG:__main__:import: paperpi.plugins.xkcd_comic\n",
      "DEBUG:__main__:import: paperpi.plugins.word_clock\n",
      "DEBUG:__main__:import: paperpi.plugins.demo_plugin\n",
      "DEBUG:__main__:import: paperpi.plugins.newyorker\n",
      "WARNING:root:could not import module: No module named 'feedparser'\n",
      "DEBUG:__main__:import: paperpi.plugins.default\n",
      "DEBUG:__main__:import: paperpi.plugins.met_no\n",
      "DEBUG:__main__:import: paperpi.plugins.crypto\n",
      "WARNING:root:could not import module: No module named 'layout'\n",
      "DEBUG:__main__:import: paperpi.plugins.dec_binary_clock\n"
     ]
    }
   ],
   "source": [
    "hi = hidden_imports('../paperpi/plugins')"
   ]
  },
  {
   "cell_type": "markdown",
   "id": "fb9f029b",
   "metadata": {},
   "source": [
    "# NB!\n",
    "restart the kernel before trying to run this; only works once \n",
    "\n",
    "## plan b\n",
    "use find_imports.sh to write X-requirements.txt file in each module's folder\n",
    "\n",
    "write module install procedure that can pipenv install from the module's requirements.txt"
   ]
  },
  {
   "cell_type": "code",
   "execution_count": 7,
   "id": "a149f2cc",
   "metadata": {},
   "outputs": [
    {
     "data": {
      "text/plain": [
       "{'PIL',\n",
       " '_multibytecodec',\n",
       " 'certifi',\n",
       " 'charset_normalizer',\n",
       " 'dictor',\n",
       " 'epdlib',\n",
       " 'http',\n",
       " 'idna',\n",
       " 'ipaddress',\n",
       " 'paperpi',\n",
       " 'requests',\n",
       " 'secrets',\n",
       " 'urllib3'}"
      ]
     },
     "execution_count": 7,
     "metadata": {},
     "output_type": "execute_result"
    }
   ],
   "source": [
    "hi"
   ]
  },
  {
   "cell_type": "code",
   "execution_count": 15,
   "id": "e28e2a77",
   "metadata": {},
   "outputs": [],
   "source": [
    "import findimports\n"
   ]
  },
  {
   "cell_type": "code",
   "execution_count": 17,
   "id": "866bbee8",
   "metadata": {},
   "outputs": [],
   "source": [
    "i = findimports.ModuleGraph()"
   ]
  },
  {
   "cell_type": "code",
   "execution_count": 21,
   "id": "2f18aa8c",
   "metadata": {},
   "outputs": [
    {
     "name": "stderr",
     "output_type": "stream",
     "text": [
      "../paperpi/plugins/moon_phase/moon_phase.py:41: syntax error in doctest\n",
      "../paperpi/plugins/moon_phase/moon_phase.py:150: syntax error in doctest\n"
     ]
    }
   ],
   "source": [
    "i.parsePathname(\"../paperpi/plugins/\")"
   ]
  },
  {
   "cell_type": "code",
   "execution_count": 26,
   "id": "0d6e4530",
   "metadata": {},
   "outputs": [
    {
     "data": {
      "text/plain": [
       "<findimports.ModuleGraph at 0xad2d5eb0>"
      ]
     },
     "execution_count": 26,
     "metadata": {},
     "output_type": "execute_result"
    }
   ],
   "source": [
    "i.packageGraph()"
   ]
  },
  {
   "cell_type": "code",
   "execution_count": 9,
   "id": "edb9c520",
   "metadata": {},
   "outputs": [
    {
     "data": {
      "text/plain": [
       "['ImportFinder',\n",
       " 'ImportFinderAndNameTracker',\n",
       " 'ImportInfo',\n",
       " 'Module',\n",
       " 'ModuleCycle',\n",
       " 'ModuleGraph',\n",
       " 'STDLIB_MODNAMES_SET',\n",
       " 'Scope',\n",
       " '__author__',\n",
       " '__builtins__',\n",
       " '__cached__',\n",
       " '__doc__',\n",
       " '__file__',\n",
       " '__licence__',\n",
       " '__loader__',\n",
       " '__name__',\n",
       " '__package__',\n",
       " '__spec__',\n",
       " '__url__',\n",
       " '__version__',\n",
       " 'adjust_lineno',\n",
       " 'ast',\n",
       " 'attrgetter',\n",
       " 'doctest',\n",
       " 'find_imports',\n",
       " 'find_imports_and_track_names',\n",
       " 'linecache',\n",
       " 'main',\n",
       " 'optparse',\n",
       " 'os',\n",
       " 'pickle',\n",
       " 'print_function',\n",
       " 'quote',\n",
       " 're',\n",
       " 'sys',\n",
       " 'tokenize',\n",
       " 'zipfile']"
      ]
     },
     "execution_count": 9,
     "metadata": {},
     "output_type": "execute_result"
    }
   ],
   "source": [
    "dir(findimports)"
   ]
  },
  {
   "cell_type": "code",
   "execution_count": null,
   "id": "37865099",
   "metadata": {},
   "outputs": [],
   "source": [
    "r, p = hi"
   ]
  },
  {
   "cell_type": "code",
   "execution_count": null,
   "id": "c39d8cf0",
   "metadata": {},
   "outputs": [],
   "source": [
    "r - p"
   ]
  }
 ],
 "metadata": {
  "kernelspec": {
   "display_name": "paperpi-fN25Eeb-",
   "language": "python",
   "name": "paperpi-fn25eeb-"
  },
  "language_info": {
   "codemirror_mode": {
    "name": "ipython",
    "version": 3
   },
   "file_extension": ".py",
   "mimetype": "text/x-python",
   "name": "python",
   "nbconvert_exporter": "python",
   "pygments_lexer": "ipython3",
   "version": "3.9.2"
  }
 },
 "nbformat": 4,
 "nbformat_minor": 5
}
