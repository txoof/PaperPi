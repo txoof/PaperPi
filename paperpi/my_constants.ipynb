{
 "cells": [
  {
   "cell_type": "code",
   "execution_count": 2,
   "id": "80295ea7",
   "metadata": {},
   "outputs": [],
   "source": [
    "from pathlib import Path"
   ]
  },
  {
   "cell_type": "code",
   "execution_count": 3,
   "id": "0c1345ce",
   "metadata": {
    "lines_to_next_cell": 2
   },
   "outputs": [],
   "source": [
    "from os import path"
   ]
  },
  {
   "cell_type": "code",
   "execution_count": 4,
   "id": "6a315177",
   "metadata": {},
   "outputs": [],
   "source": [
    "APP_NAME = 'PaperPi'\n",
    "CONTACT='aaron.ciuffo@gmail.com'\n",
    "DEVEL_NAME = f'com.txoof.{APP_NAME.lower()}'\n",
    "VERSION='0.6'\n",
    "URL = 'https://github.com/ txoof/PaperPi'"
   ]
  },
  {
   "cell_type": "code",
   "execution_count": 5,
   "id": "f804f449",
   "metadata": {
    "lines_to_next_cell": 2
   },
   "outputs": [],
   "source": [
    "CONFIG_FILENAME = f'{APP_NAME.lower()}_cfg.json'\n",
    "CONFIG_VERSION = 2.0\n",
    "# expected sections in configuration - only these will be processed\n",
    "CONFIG_SECTIONS = ['config_version', 'main', 'plugins']"
   ]
  },
  {
   "cell_type": "code",
   "execution_count": null,
   "id": "75e515b4",
   "metadata": {},
   "outputs": [],
   "source": [
    "# reliably identify the current working directory\n",
    "BASE_DIRECTORY = path.dirname(path.abspath(__file__))"
   ]
  },
  {
   "cell_type": "code",
   "execution_count": null,
   "id": "873be2a1",
   "metadata": {},
   "outputs": [],
   "source": [
    "# base configuration\n",
    "CONFIG_PATH = Path(f'{BASE_DIRECTORY}/config').resolve()\n",
    "CONFIG_BASE = CONFIG_PATH/CONFIG_FILENAME"
   ]
  },
  {
   "cell_type": "code",
   "execution_count": null,
   "id": "8f433d4d",
   "metadata": {},
   "outputs": [],
   "source": [
    "# per-user configuration\n",
    "CONFIG_USER = Path(f'~/.config/{DEVEL_NAME}/{CONFIG_FILENAME}').expanduser().resolve()"
   ]
  },
  {
   "cell_type": "code",
   "execution_count": 1,
   "id": "094fef62",
   "metadata": {
    "lines_to_next_cell": 2
   },
   "outputs": [
    {
     "ename": "NameError",
     "evalue": "name 'Path' is not defined",
     "output_type": "error",
     "traceback": [
      "\u001b[0;31m---------------------------------------------------------------------------\u001b[0m",
      "\u001b[0;31mNameError\u001b[0m                                 Traceback (most recent call last)",
      "Cell \u001b[0;32mIn[1], line 2\u001b[0m\n\u001b[1;32m      1\u001b[0m \u001b[38;5;66;03m# system configuration\u001b[39;00m\n\u001b[0;32m----> 2\u001b[0m CONFIG_SYSTEM \u001b[38;5;241m=\u001b[39m \u001b[43mPath\u001b[49m(\u001b[38;5;124mf\u001b[39m\u001b[38;5;124m'\u001b[39m\u001b[38;5;124m/etc/default/\u001b[39m\u001b[38;5;132;01m{\u001b[39;00mCONFIG_FILENAME\u001b[38;5;132;01m}\u001b[39;00m\u001b[38;5;124m'\u001b[39m)\n",
      "\u001b[0;31mNameError\u001b[0m: name 'Path' is not defined"
     ]
    }
   ],
   "source": [
    "# system configuration\n",
    "CONFIG_SYSTEM = Path(f'/etc/default/{CONFIG_FILENAME}')"
   ]
  },
  {
   "cell_type": "code",
   "execution_count": null,
   "id": "138cf9df-f65e-426b-9a55-ccc1a8ecbd23",
   "metadata": {},
   "outputs": [],
   "source": [
    "# path to plugins\n",
    "PLUGINS = 'plugins'\n",
    "# required keys that every plugin configuration needs to have\n",
    "REQ_PLUGIN_KEYS = {\n",
    "  \"name\": {\n",
    "    \"description\": \"Human readable plugin identifier\",\n",
    "    \"value\": \"\"\n",
    "  },\n",
    "  \"id\": {\n",
    "      \"description\": \"unique plugin identifier\",\n",
    "      \"value\": \"\",\n",
    "      \"hidden\": True\n",
    "  },\n",
    "  \"enabled\": {\n",
    "    \"description\": \"Plugin is enabled and should be displayed\",\n",
    "    \"value\": True,\n",
    "    \"type\": \"bool\"\n",
    "  },\n",
    "  \"layout\": {\n",
    "    \"description\": \"Layout to use in displaying plugin output\",\n",
    "    \"value\": \"layout\"\n",
    "  },\n",
    "  \"plugin\": {\n",
    "    \"description\": \"Formal plugin name\",\n",
    "    \"value\": \"None\"\n",
    "  },\n",
    "  \"refresh_rate\": {\n",
    "    \"description\": \"Time in seconds between requests for new data from plugin. This is **not** the display time.\",\n",
    "    \"value\": 60,\n",
    "    \"type\": \"int\"\n",
    "  },\n",
    "  \"min_display_time\": {\n",
    "    \"description\": \"Minimum time in seconds plugin should display before a new plugin is displayed\",\n",
    "    \"value\": 60,\n",
    "    \"type\": \"int\"\n",
    "  },\n",
    "  \"max_priority\": {\n",
    "    \"description\": \"Maximum priority this plugin should reach. This is best left at the plugin default (typically 2) unless you **really** know what you're doing.\",\n",
    "    \"value\": 2,\n",
    "    \"type\": \"int\"\n",
    "  }\n",
    "}"
   ]
  },
  {
   "cell_type": "code",
   "execution_count": null,
   "id": "283f5ac7",
   "metadata": {},
   "outputs": [],
   "source": [
    "# path to fonts \n",
    "FONTS = Path(f'{BASE_DIRECTORY}/fonts').resolve()"
   ]
  },
  {
   "cell_type": "code",
   "execution_count": null,
   "id": "5cb90520",
   "metadata": {},
   "outputs": [],
   "source": [
    "LOGGING_CONFIG = Path(CONFIG_PATH)/'logging.cfg'"
   ]
  },
  {
   "cell_type": "code",
   "execution_count": null,
   "id": "c5f9ee55",
   "metadata": {},
   "outputs": [],
   "source": [
    "VERSION_STRING = f'''\n",
    "{APP_NAME}\n",
    "Version: {VERSION}\n",
    "{URL}\n",
    "'''"
   ]
  },
  {
   "cell_type": "code",
   "execution_count": null,
   "id": "83d7e23c",
   "metadata": {},
   "outputs": [],
   "source": [
    "# sleep delay in the update loop in seconds\n",
    "UPDATE_SLEEP = 5"
   ]
  }
 ],
 "metadata": {
  "jupytext": {
   "cell_metadata_filter": "-all",
   "notebook_metadata_filter": "-all"
  },
  "kernelspec": {
   "display_name": "venv_flask_learn-8390ac784",
   "language": "python",
   "name": "venv_flask_learn-8390ac784"
  },
  "language_info": {
   "codemirror_mode": {
    "name": "ipython",
    "version": 3
   },
   "file_extension": ".py",
   "mimetype": "text/x-python",
   "name": "python",
   "nbconvert_exporter": "python",
   "pygments_lexer": "ipython3",
   "version": "3.11.2"
  }
 },
 "nbformat": 4,
 "nbformat_minor": 5
}
