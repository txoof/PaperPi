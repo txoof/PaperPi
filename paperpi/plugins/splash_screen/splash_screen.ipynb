{
 "cells": [
  {
   "cell_type": "code",
   "execution_count": 2,
   "metadata": {},
   "outputs": [],
   "source": [
    "try:\n",
    "    from . import layout\n",
    "    from . import constants\n",
    "except ImportError:\n",
    "    import layout\n",
    "    import constants"
   ]
  },
  {
   "cell_type": "code",
   "execution_count": 3,
   "metadata": {},
   "outputs": [],
   "source": [
    "def update_function(self, app_name, version, url):\n",
    "    '''update function for splash_screen provides program name, version, url\n",
    "    \n",
    "    This plugin provides a basic splash screen with application \n",
    "    name, version and url\n",
    "    \n",
    "    Requirements:\n",
    "        None\n",
    "        \n",
    "    Args:\n",
    "        self(`namespace`)\n",
    "        app_name(`str`): application name\n",
    "        version(`str`): version number\n",
    "        url(`str`) url\n",
    "        \n",
    "    Returns:\n",
    "        tuple: (is_updated(bool), data(dict), priority(int))        \n",
    "    %U'''\n",
    "    return(True, {'app_name': app_name, 'version': version, 'url': url}, -1)"
   ]
  },
  {
   "cell_type": "code",
   "execution_count": 2,
   "metadata": {},
   "outputs": [
    {
     "name": "stdout",
     "output_type": "stream",
     "text": [
      "[NbConvertApp] Converting notebook splash_screen.ipynb to python\n",
      "[NbConvertApp] Writing 764 bytes to splash_screen.py\n"
     ]
    }
   ],
   "source": [
    "!jupyter-nbconvert --to python --template python_clean splash_screen.ipynb"
   ]
  },
  {
   "cell_type": "code",
   "execution_count": null,
   "metadata": {},
   "outputs": [],
   "source": []
  }
 ],
 "metadata": {
  "kernelspec": {
   "display_name": "PaperPi-VBShxqF-",
   "language": "python",
   "name": "paperpi-vbshxqf-"
  },
  "language_info": {
   "codemirror_mode": {
    "name": "ipython",
    "version": 3
   },
   "file_extension": ".py",
   "mimetype": "text/x-python",
   "name": "python",
   "nbconvert_exporter": "python",
   "pygments_lexer": "ipython3",
   "version": "3.9.2"
  }
 },
 "nbformat": 4,
 "nbformat_minor": 4
}
