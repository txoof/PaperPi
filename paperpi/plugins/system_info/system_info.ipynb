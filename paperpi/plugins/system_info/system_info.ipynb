{
 "cells": [
  {
   "cell_type": "code",
   "execution_count": 3,
   "metadata": {},
   "outputs": [],
   "source": [
    "%load_ext autoreload\n",
    "%autoreload 2"
   ]
  },
  {
   "cell_type": "code",
   "execution_count": 4,
   "metadata": {},
   "outputs": [],
   "source": [
    "# your function must import layout and constants\n",
    "# this is structured to work both in Jupyter notebook and from the command line\n",
    "try:\n",
    "    from . import layout\n",
    "    from . import constants\n",
    "except ImportError:\n",
    "    import layout\n",
    "    import constants\n",
    "    \n",
    "from datetime import datetime\n",
    "from pathlib import Path\n",
    "import shutil\n",
    "import socket\n",
    "import psutil"
   ]
  },
  {
   "cell_type": "code",
   "execution_count": null,
   "metadata": {},
   "outputs": [],
   "source": [
    "# fugly hack for making the library module available to the plugins\n",
    "sys.path.append(layout.dir_path+'/../..')\n",
    "from library import PluginTools"
   ]
  },
  {
   "cell_type": "code",
   "execution_count": 5,
   "metadata": {},
   "outputs": [],
   "source": [
    "def _temperature():\n",
    "    '''return a dictionary with the current CPU temperature on a raspberry pi in degrees C'''\n",
    "    try:\n",
    "        f = psutil.sensors_temperatures()\n",
    "        current = f['cpu_thermal'][0].current\n",
    "    except psutil.Error as e:\n",
    "        logging.error(f'could not get CPU temperature: {e}')\n",
    "        current = 0\n",
    "    \n",
    "    current = int(round(current,0))\n",
    "    \n",
    "    current = f'Temp: {current}C'\n",
    "    \n",
    "    return {'cputemp': current}"
   ]
  },
  {
   "cell_type": "code",
   "execution_count": 32,
   "metadata": {},
   "outputs": [],
   "source": [
    "def _cpu_load():\n",
    "    '''return a dicionary containing a list of the load average for \n",
    "    all cpus for 1, 5, 15 minutes as percentages'''\n",
    "    try:\n",
    "        load = [f'{round(x / psutil.cpu_count() * 100, 2)}%' for x in psutil.getloadavg()]\n",
    "    except psutil.Error as e:\n",
    "        logging.error(f'CPU info not available: {e}')\n",
    "        load = ('NA', 'NA', 'NA')\n",
    "        \n",
    "    \n",
    "        \n",
    "    return {\n",
    "        'cpuload_5': f'5 min avg: {load[0]}',\n",
    "        'cpuload_10': f'10 min avg: {load[1]}',\n",
    "        'cpuload_15': f'15 min avg: {load[2]}'\n",
    "    }"
   ]
  },
  {
   "cell_type": "code",
   "execution_count": 7,
   "metadata": {},
   "outputs": [],
   "source": [
    "def _network_info():\n",
    "    '''return a dictionary containing the hostname and ipaddress of the host'''\n",
    "    try:\n",
    "        hostname = socket.gethostname()\n",
    "    except OSError as e:\n",
    "        logging.error(f'could not get hostname: {e}')\n",
    "        hostname = 'UNKNOWN!'\n",
    "    \n",
    "    # based on https://stackoverflow.com/a/28950776/5530152\n",
    "    s = socket.socket(socket.AF_INET, socket.SOCK_DGRAM)\n",
    "    s.settimeout(0)\n",
    "    try:\n",
    "        # doesn't even have to be reachable\n",
    "        s.connect(('10.254.254.254', 1))\n",
    "        IP = s.getsockname()[0]\n",
    "    except Exception:\n",
    "        IP = '127.0.0.1'\n",
    "    finally:\n",
    "        s.close()\n",
    "    \n",
    "    return {\n",
    "        'hostname': hostname,\n",
    "        'ipaddress': IP\n",
    "    }"
   ]
  },
  {
   "cell_type": "code",
   "execution_count": 8,
   "metadata": {},
   "outputs": [],
   "source": [
    "def _disk_use(unit='GB', rounding=0 ):\n",
    "    '''return a diciontary containing \n",
    "        disk_total, diskuse, diskfree in units and percentages'''\n",
    "    try:\n",
    "        total_b, used_b, free_b = shutil.disk_usage(\"/\")\n",
    "    except OSError as e:\n",
    "        logging.error(f'could not access \"/\": {e}')\n",
    "        total_b, used_b, free_b = 0, 0, 0\n",
    "    \n",
    "    if unit not in constants.storage_units.keys():\n",
    "        logging.warning(f'unknown storage unit in config: \"{unit}\"; falling back to `GB`')\n",
    "    \n",
    "    my_unit = constants.storage_units.get(unit, 10**9)\n",
    "    \n",
    "    return {\n",
    "        'disk_total': f\"Total: {int(round(total_b/my_unit, 0))} {unit}\",\n",
    "        'diskuse': f\"Used: {int(round(used_b/my_unit, 0))} {unit}\",\n",
    "        'diskfree': f\"Free: {int(round(used_b/my_unit, 0))} {unit}\",\n",
    "        # prevent div/0 errors by adding 1 byte\n",
    "        'diskuse_pct': f'Used: {int(round(used_b/(total_b+1)*100, 0))}%',\n",
    "        'diskfree_pct': f'Free: {int(round(free_b/(total_b+1)*100, 0))}%',\n",
    "        'disk_units': unit,\n",
    "    }"
   ]
  },
  {
   "cell_type": "code",
   "execution_count": 9,
   "metadata": {},
   "outputs": [],
   "source": [
    "# make sure this function can accept *args and **kwargs even if you don't intend to use them\n",
    "def update_function(self, *args, **kwargs):\n",
    "    '''update function for system_info to display system information including:\n",
    "        Network Info:\n",
    "            * IP address\n",
    "            * Hostname\n",
    "            \n",
    "        Storage Info:\n",
    "            * Total storage\n",
    "            * Percent used\n",
    "            * Percent free\n",
    "            \n",
    "        CPU Usage Info:\n",
    "            * Temperature\n",
    "            * 5 minute load average\n",
    "            * 10 minute load average\n",
    "            * 15 minute load average\n",
    "    \n",
    "    Supports RGB text\n",
    "    \n",
    "    Configuration Requirements:\n",
    "        self.config(dict): {\n",
    "            'storage_unit': 'GB' # optional units to use for storage (KB, MB, GB, TB, EB)\n",
    "            'text_color': 'Black' # optional \n",
    "            'bkground_color': 'White' # optional\n",
    "        }\n",
    "        \n",
    "    Args: \n",
    "        self(namespace): namespace from plugin object\n",
    "    \n",
    "    Returns:\n",
    "        tuple: (is_updated(bool), data(dict), priority(int))\n",
    "\n",
    "    %U'''   \n",
    "    \n",
    "    is_updated = True\n",
    "    data = {}\n",
    "    priority = self.max_priority\n",
    "    \n",
    "    data.update(_network_info())\n",
    "    data.update(_disk_use(self.config['storage_unit']))\n",
    "    data.update(_cpu_load())\n",
    "    data.update(_temperature())\n",
    "    data['time'] = datetime.now().strftime(\"%H:%M\")\n",
    "    data['disk_icon'] = Path(constants.image_path)/'hdd.jpg'\n",
    "    data['cpu_icon'] = Path(constants.image_path)/'chip.jpg'\n",
    "    \n",
    "    if 'text_color' in self.config or 'bkground_color' in self.config:\n",
    "        logging.info('using user-defined colors')\n",
    "        colors = PluginTools.text_color(config=self.config, mode=self.screen_mode,\n",
    "                               default_text=self.layout.get('fill', 'WHITE'),\n",
    "                               default_bkground=self.layout.get('bkground', 'BLACK'))\n",
    "\n",
    "        text_color = colors['text_color']\n",
    "        bkground_color = colors['bkground_color']\n",
    "\n",
    "\n",
    "        # set the colors\n",
    "        logging.debug(f'trying to set fill and background for sections: {list(self.layout.keys())}')\n",
    "        for section in self.layout:\n",
    "            if self.layout[section].get('rgb_support', False):\n",
    "                logging.debug(f'setting {section} layout colors to fill: {text_color}, bkground: {bkground_color}')\n",
    "                self.layout_obj.update_block_props(section, {'fill': text_color, 'bkground': bkground_color}) \n",
    "\n",
    "            else:\n",
    "                logging.debug(f'section {section} does not support RGB colors')\n",
    "    \n",
    "    \n",
    "    return (is_updated, data, priority)"
   ]
  },
  {
   "cell_type": "code",
   "execution_count": 22,
   "metadata": {},
   "outputs": [
    {
     "data": {
      "image/png": "[encoded data removed]",
      "text/plain": [
       "<PIL.Image.Image image mode=RGB size=640x400>"
      ]
     },
     "execution_count": 22,
     "metadata": {},
     "output_type": "execute_result"
    }
   ],
   "source": [
    "# # this code snip simulates running from within the display loop use this and the following\n",
    "# # cell to test the output\n",
    "# # fugly hack for making the library module available to the plugins\n",
    "# import sys\n",
    "# sys.path.append(layout.dir_path+'/../..')\n",
    "# from library import PluginTools\n",
    "# import logging\n",
    "# logging.root.setLevel('WARNING')\n",
    "# from library.CacheFiles import CacheFiles\n",
    "# from library.Plugin import Plugin\n",
    "# from IPython.display import display\n",
    "# test_plugin = Plugin(resolution=(640, 400), screen_mode='RGB')\n",
    "# test_plugin.layout = layout.layout\n",
    "# test_plugin.config = {\n",
    "#     'text_color': 'Black',\n",
    "#     'bkground_color': 'white',\n",
    "#     'storage_unit': 'KB',\n",
    "# }\n",
    "# test_plugin.refresh_rate = 5\n",
    "# # l = layout.layout\n",
    "# # test_plugin.cache = CacheFiles()\n",
    "# test_plugin.update_function = update_function\n",
    "# test_plugin.update()\n",
    "# test_plugin.image"
   ]
  },
  {
   "cell_type": "code",
   "execution_count": 36,
   "metadata": {},
   "outputs": [
    {
     "name": "stdout",
     "output_type": "stream",
     "text": [
      "[NbConvertApp] Converting notebook system_info.ipynb to python\n",
      "[NbConvertApp] Writing 6528 bytes to system_info.py\n"
     ]
    }
   ],
   "source": [
    "!jupyter-nbconvert --to python --template python_clean system_info.ipynb"
   ]
  }
 ],
 "metadata": {
  "kernelspec": {
   "display_name": "PaperPi-VBShxqF-",
   "language": "python",
   "name": "paperpi-vbshxqf-"
  },
  "language_info": {
   "codemirror_mode": {
    "name": "ipython",
    "version": 3
   },
   "file_extension": ".py",
   "mimetype": "text/x-python",
   "name": "python",
   "nbconvert_exporter": "python",
   "pygments_lexer": "ipython3",
   "version": "3.9.2"
  }
 },
 "nbformat": 4,
 "nbformat_minor": 4
}
