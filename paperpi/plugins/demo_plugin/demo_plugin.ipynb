{
 "cells": [
  {
   "cell_type": "code",
   "execution_count": null,
   "metadata": {},
   "outputs": [],
   "source": [
    "%load_ext autoreload\n",
    "%autoreload 2"
   ]
  },
  {
   "cell_type": "code",
   "execution_count": null,
   "metadata": {},
   "outputs": [],
   "source": [
    "# your function must import layout and constants\n",
    "# this is structured to work both in Jupyter notebook and from the command line\n",
    "try:\n",
    "    from . import layout\n",
    "    from . import constants\n",
    "except ImportError:\n",
    "    import layout\n",
    "    import constants\n",
    "    \n",
    "from random import randrange\n",
    "from datetime import datetime\n",
    "from pathlib import Path"
   ]
  },
  {
   "cell_type": "code",
   "execution_count": null,
   "metadata": {},
   "outputs": [],
   "source": [
    "def demo_function(*args, **kwargs):\n",
    "    '''demo function that prints a docstring\n",
    "    \n",
    "    This function prints the __doc__ string for this function as a \n",
    "    demonstration of a Plugin \"user-facing\" function.\n",
    "    \n",
    "    Args:\n",
    "        None\n",
    "        \n",
    "    Returns:\n",
    "        None\n",
    "    %U'''\n",
    "    \n",
    "    print(demo_function.__doc__)"
   ]
  },
  {
   "cell_type": "code",
   "execution_count": null,
   "metadata": {},
   "outputs": [],
   "source": [
    "def useless_function():\n",
    "    '''useless function that does nothing\n",
    "    \n",
    "    This function does nothing, and will be ignored by the documentation \n",
    "    generators because it does not end with \"%U\" on the last line.\n",
    "    '''\n",
    "    2 + 2\n",
    "    pass"
   ]
  },
  {
   "cell_type": "code",
   "execution_count": null,
   "metadata": {},
   "outputs": [],
   "source": [
    "# make sure this function can accept *args and **kwargs even if you don't intend to use them\n",
    "def update_function(self, *args, **kwargs):\n",
    "    '''update function for demo plugin providing some silly information and a picture\n",
    "    \n",
    "    This plugin provides a message generated for the user and \n",
    "    a static image that floats around\n",
    "    \n",
    "    Requirments:\n",
    "        self.config(dict): {\n",
    "            'your_name': 'user name',\n",
    "            'your_color': 'user color',\n",
    "        }\n",
    "        \n",
    "    Args: \n",
    "        self(namespace): namespace from plugin object\n",
    "    \n",
    "    Returns:\n",
    "        tuple: (is_updated(bool), data(dict), priority(int))\n",
    "\n",
    "    # Don't forget to end your docstring with a \"%U\" so it is displayed\n",
    "    %U'''   \n",
    "    \n",
    "    # pull information from the plugin section of the configuration file (slimpi.ini)\n",
    "    name = self.config['your_name']\n",
    "    color = self.config['favorite_color']\n",
    "    \n",
    "    # do something with the configuration data\n",
    "    strings = [\n",
    "        f'Hi {name}! I hear your color is {color}',\n",
    "        f'{name}, did you know your color has {len(color)} characters in it?',\n",
    "        f'Your name spelled backwards is \"{name[::-1]}\"',\n",
    "        f'If you sort your favorite color alphabetically, you get: {(\"\").join(sorted(color))}',\n",
    "        f'If you sort your name alphabetically, you get: {(\"\").join(sorted(name))}',\n",
    "        f'My temporary cache path is: {self.cache.path}'\n",
    "    ]\n",
    "    \n",
    "    # define the components of the data that will be returned\n",
    "    my_string = strings[randrange(0, len(strings)-1)]\n",
    "    time = datetime.now().strftime(\"%H:%M\")\n",
    "    minute = datetime.now().strftime(\"%M\")\n",
    "    image = Path(constants.img_file).resolve()\n",
    "\n",
    "    # optionally raise the priority under certain circumstances\n",
    "    \n",
    "    # if the minute is even, raise the priority, else, leave it at the normal priority\n",
    "    if int(minute) % 2 == 0:\n",
    "        priority = self.max_priority - 1\n",
    "        extra_string = 'The minute is EVEN! I will raise the priority!'\n",
    "    else:\n",
    "        priority = self.max_priority\n",
    "        extra_string = f'The minute is odd; this is my file cache: {self.cache.path}'\n",
    "    \n",
    "    # build the output\n",
    "    is_updated = True\n",
    "    data = {\n",
    "        'string': my_string,\n",
    "        'time': time,\n",
    "        'extra': extra_string,\n",
    "        'image': image\n",
    "    }\n",
    "    priority = priority\n",
    "    \n",
    "    \n",
    "    return (is_updated, data, priority)"
   ]
  },
  {
   "cell_type": "code",
   "execution_count": null,
   "metadata": {},
   "outputs": [],
   "source": [
    "!jupyter-nbconvert --to python --template python_clean demo_plugin.ipynb"
   ]
  },
  {
   "cell_type": "code",
   "execution_count": null,
   "metadata": {},
   "outputs": [],
   "source": [
    "# # use this in jupyter to allow loading libraries\n",
    "# import sys\n",
    "# sys.path.append('../')"
   ]
  },
  {
   "cell_type": "code",
   "execution_count": null,
   "metadata": {},
   "outputs": [],
   "source": [
    "# from library.CacheFiles import CacheFiles\n",
    "# def test_plugin():\n",
    "#     '''This code snip is useful for testing a plugin from within Jupyter Notebook'''\n",
    "#     from library import Plugin\n",
    "#     from IPython.display import display\n",
    "#     # this is set by PaperPi based on the configured schreen\n",
    "#     test_plugin = Plugin(resolution=(1200, 800))\n",
    "#     # this is pulled from the configuration file; the appropriate section is passed\n",
    "#     # to this plugin by PaperPi during initial configuration\n",
    "#     test_plugin.config = {'your_name': 'Aaron', 'favorite_color': 'pink'}\n",
    "#     test_plugin.layout = layout.layout\n",
    "#     # this is done automatically by PaperPi when loading the plugin\n",
    "#     test_plugin.cache = CacheFiles()\n",
    "#     test_plugin.update_function = update_function\n",
    "#     test_plugin.update()\n",
    "#     display(test_plugin.image)\n",
    "#     return test_plugin\n",
    "# my_plugin = test_plugin"
   ]
  },
  {
   "cell_type": "code",
   "execution_count": null,
   "metadata": {},
   "outputs": [],
   "source": [
    "# this simulates calling the plugin from PaperPi\n",
    "# my_plugin()"
   ]
  },
  {
   "cell_type": "code",
   "execution_count": 1,
   "metadata": {},
   "outputs": [
    {
     "name": "stdout",
     "output_type": "stream",
     "text": [
      "[NbConvertApp] Converting notebook demo_plugin.ipynb to python\n",
      "[NbConvertApp] Writing 4328 bytes to demo_plugin.py\n"
     ]
    }
   ],
   "source": [
    "!jupyter-nbconvert --to python --template python_clean demo_plugin.ipynb"
   ]
  }
 ],
 "metadata": {
  "kernelspec": {
   "display_name": "epd_display-ApAYs8Kw",
   "language": "python",
   "name": "epd_display-apays8kw"
  },
  "language_info": {
   "codemirror_mode": {
    "name": "ipython",
    "version": 3
   },
   "file_extension": ".py",
   "mimetype": "text/x-python",
   "name": "python",
   "nbconvert_exporter": "python",
   "pygments_lexer": "ipython3",
   "version": "3.9.2"
  }
 },
 "nbformat": 4,
 "nbformat_minor": 4
}
