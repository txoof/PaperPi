{
 "cells": [
  {
   "cell_type": "code",
   "execution_count": null,
   "metadata": {},
   "outputs": [],
   "source": [
    "%load_ext autoreload\n",
    "%autoreload 2"
   ]
  },
  {
   "cell_type": "code",
   "execution_count": null,
   "metadata": {},
   "outputs": [],
   "source": [
    "import logging\n",
    "from datetime import datetime\n",
    "from time import time\n",
    "import random\n",
    "from pathlib import Path"
   ]
  },
  {
   "cell_type": "code",
   "execution_count": null,
   "metadata": {
    "lines_to_next_cell": 2
   },
   "outputs": [],
   "source": [
    "# two different import modes for development or distribution\n",
    "try:\n",
    "    # import from other modules above this level\n",
    "    from . import layout\n",
    "    from . import constants\n",
    "except ImportError:\n",
    "    import constants\n",
    "    # development in jupyter notebook\n",
    "    import layout"
   ]
  },
  {
   "cell_type": "code",
   "execution_count": null,
   "metadata": {},
   "outputs": [],
   "source": [
    "import sys\n",
    "# fugly hack for making the library module available to the plugins\n",
    "sys.path.append(layout.dir_path+'/../..')"
   ]
  },
  {
   "cell_type": "code",
   "execution_count": null,
   "metadata": {},
   "outputs": [],
   "source": [
    "logger = logging.getLogger(__name__)"
   ]
  },
  {
   "cell_type": "code",
   "execution_count": null,
   "metadata": {},
   "outputs": [],
   "source": [
    "def remove_non_alphanumeric(s):\n",
    "    # Using list comprehension to filter out non-alphanumeric characters\n",
    "    filtered_string = ''.join([char for char in s if char.isalnum()])\n",
    "    return filtered_string"
   ]
  },
  {
   "cell_type": "code",
   "execution_count": null,
   "metadata": {
    "lines_to_next_cell": 2
   },
   "outputs": [],
   "source": [
    "def update_function(self, title=None, crash_rate=None, *args, **kwargs):\n",
    "    '''update function for debugging plugin provides title, time, crash rate\n",
    "    \n",
    "    This plugin shows minimal data and is designed to throw exceptions to test other functionality. \n",
    "    The plugin will deliberately and randomly throw exceptions at the rate specified in the configuration. \n",
    "    When an exception is not thrown, the plugin will randomly change its priority to the max set in the \n",
    "    configuration. Set the rate at which the plugin should jump to the higher priority status in the configuration.\n",
    "    \n",
    "    \n",
    "    Args:\n",
    "        self(`namespace`)\n",
    "        title(`str`): title of plugin to display\n",
    "        crash_rate(`float`): value between 0 and 1 indicating probability of throwing \n",
    "            exception on execution\n",
    "    %U'''\n",
    "\n",
    "    crash = False\n",
    "    priority = self.max_priority\n",
    "    is_updated = False\n",
    "    \n",
    "    if not title:\n",
    "        title = self.config.get('title', constants.default_title)\n",
    "\n",
    "    # sentinal file to indicate that the plugin has been setup\n",
    "    filename = ''.join([char for char in title if char.isalnum()])\n",
    "    first_run_file = Path(str(self.cache))/filename\n",
    "    logging.info(f'first-run sentinal file: {first_run_file}')    \n",
    "    \n",
    "    if not crash_rate:\n",
    "        crash_rate = self.config.get('crash_rate', 0)\n",
    "\n",
    "    max_priority_rate = self.config.get('max_priority_rate', 0)\n",
    "    \n",
    "    \n",
    "    random.seed(time())\n",
    "    rand_val = random.random()\n",
    "    rand_priority = random.random()\n",
    "    # if this is the first run, do NOT crash; paperpi will exclude any\n",
    "    # plugin that crashes during setup\n",
    "    if not first_run_file.exists():\n",
    "        logging.info(f'This is the first run of this plugin; creating sential file: {first_run_file}')\n",
    "        rand_val = 2\n",
    "        logging.info('plugin will not crash on first run')\n",
    "        first_run_file.touch()\n",
    "    else:\n",
    "        pass\n",
    "\n",
    "    logging.info(f'rand_priority: {rand_priority}, max_priority_rate: {max_priority_rate}')\n",
    "    if rand_priority <= max_priority_rate:\n",
    "        priority = self.max_priority\n",
    "    else:\n",
    "        priority = self.config.get('min_priority', 2)\n",
    "\n",
    "    logging.info(f'priority set to: {priority}')\n",
    "    \n",
    "    \n",
    "    data = {\n",
    "        'title': f'{title}',\n",
    "        'crash_rate': f'Crash Rate: {crash_rate*100:.0f}%',\n",
    "        'digit_time': datetime.now().strftime(\"%H:%M:%S\"),\n",
    "        'priority': f'priority: {priority}',\n",
    "    }\n",
    "\n",
    "    logging.info(data)\n",
    "\n",
    "    \n",
    "    if rand_val <= crash_rate:\n",
    "        logging.info('random crash occurred: will throw exception')\n",
    "        crash = True\n",
    "    else:\n",
    "        logging.info('random crash did not occur: will not throw exception')\n",
    "        crash = False\n",
    "\n",
    "    if crash:\n",
    "        raise Exception(f'random crash occured: random value {rand_val:.2f} <= {crash_rate:.2f}')\n",
    "    else:\n",
    "        is_updated = True\n",
    "        \n",
    "    is_updated = True\n",
    "    return is_updated, data, priority"
   ]
  },
  {
   "cell_type": "code",
   "execution_count": null,
   "metadata": {},
   "outputs": [],
   "source": [
    "# # this code snip simulates running from within the display loop use this and the following\n",
    "# # cell to test the output\n",
    "# import logging\n",
    "# logging.root.setLevel('DEBUG')\n",
    "# from library.CacheFiles import CacheFiles\n",
    "# from library.Plugin import Plugin\n",
    "# from IPython.display import display\n",
    "# test_plugin = Plugin(resolution=(800, 600), screen_mode='L', max_priority=0)\n",
    "# test_plugin.config = {\n",
    "#     'text_color': 'random',\n",
    "#     'bkground_color': 'White'\n",
    "# }\n",
    "# test_plugin.refresh_rate = 1\n",
    "# l = layout.layout\n",
    "# test_plugin.config = {\n",
    "#     'title': 'Dummy 00',\n",
    "#     'crash_rate': .33,\n",
    "#     'max_priority_rate': .5,\n",
    "#     'min_priority': 2\n",
    "# }\n",
    "# test_plugin.layout = l\n",
    "# test_plugin.cache = CacheFiles()\n",
    "# test_plugin.update_function = update_function\n",
    "# # test_plugin.update()\n",
    "# # test_plugin.image"
   ]
  },
  {
   "cell_type": "code",
   "execution_count": null,
   "metadata": {},
   "outputs": [],
   "source": [
    "# test_plugin.update()\n",
    "# test_plugin.image"
   ]
  }
 ],
 "metadata": {
  "jupytext": {
   "formats": "ipynb,py:light"
  },
  "kernelspec": {
   "display_name": "venv_paperpi-9876705927",
   "language": "python",
   "name": "venv_paperpi-9876705927"
  },
  "language_info": {
   "codemirror_mode": {
    "name": "ipython",
    "version": 3
   },
   "file_extension": ".py",
   "mimetype": "text/x-python",
   "name": "python",
   "nbconvert_exporter": "python",
   "pygments_lexer": "ipython3",
   "version": "3.11.2"
  }
 },
 "nbformat": 4,
 "nbformat_minor": 4
}
