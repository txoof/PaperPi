{
 "cells": [
  {
   "cell_type": "code",
   "execution_count": null,
   "id": "f05e5d2d",
   "metadata": {
    "lines_to_next_cell": 2
   },
   "outputs": [],
   "source": [
    "import os\n",
    "dir_path = os.path.dirname(os.path.realpath(__file__))"
   ]
  },
  {
   "cell_type": "code",
   "execution_count": null,
   "id": "3c1bb6c2",
   "metadata": {},
   "outputs": [],
   "source": [
    "debugging_basic = {\n",
    "    'title': {\n",
    "        'type': 'TextBlock',\n",
    "        'image': None,\n",
    "        'max_lines': 2,\n",
    "        'width': 1,\n",
    "        'height': 1/3,\n",
    "        'abs_coordinates': (0, 0),\n",
    "        'rand': False,\n",
    "        'font': dir_path+'/../../fonts/Kanit/Kanit-Medium.ttf',\n",
    "        'fill': 'BLACK',\n",
    "        'bkground': 'WHITE'\n",
    "    },\n",
    "    'crash_rate': {\n",
    "        'type': 'TextBlock',\n",
    "        'image': None,\n",
    "        'max_lines': 2,\n",
    "        'width': 1/2,\n",
    "        'height': 1/3,\n",
    "        'abs_coordinates': (0, None),\n",
    "        'relative': ['crash_rate', 'title'],\n",
    "        'rand': False,\n",
    "        'font': dir_path+'/../../fonts/Kanit/Kanit-Medium.ttf',\n",
    "        'fill': 'BLACK',\n",
    "        'bkground': 'WHITE'\n",
    "    },\n",
    "    'priority': {\n",
    "        'type': 'TextBlock',\n",
    "        'image': None,\n",
    "        'max_lines': 2,\n",
    "        'width': 1/2,\n",
    "        'height': 1/3,\n",
    "        'abs_coordinates': (None, None),\n",
    "        'relative': ['crash_rate', 'title'],\n",
    "        'rand': False,\n",
    "        'font': dir_path+'/../../fonts/Kanit/Kanit-Medium.ttf',\n",
    "        'fill': 'BLACK',\n",
    "        'bkground': 'WHITE'\n",
    "    },    \n",
    "    'digit_time': {\n",
    "        'type': 'TextBlock',\n",
    "        'image': None,\n",
    "        'max_lines': 2,\n",
    "        'width': 1,\n",
    "        'height': 1/3,\n",
    "        'abs_coordinates': (0, None),\n",
    "        'relative': ['digit_time', 'crash_rate'],\n",
    "        'rand': False,\n",
    "        'font': dir_path+'/../../fonts/Kanit/Kanit-Medium.ttf',\n",
    "        'fill': 'BLACK',\n",
    "        'bkground': 'WHITE'\n",
    "    },\n",
    "    \n",
    "}"
   ]
  },
  {
   "cell_type": "code",
   "execution_count": null,
   "id": "0a604fbf",
   "metadata": {},
   "outputs": [],
   "source": [
    "layout = debugging_basic"
   ]
  }
 ],
 "metadata": {
  "jupytext": {
   "cell_metadata_filter": "-all",
   "notebook_metadata_filter": "-all"
  },
  "kernelspec": {
   "display_name": "venv_e-Paper-6143c5ac7f",
   "language": "python",
   "name": "venv_e-paper-6143c5ac7f"
  },
  "language_info": {
   "codemirror_mode": {
    "name": "ipython",
    "version": 3
   },
   "file_extension": ".py",
   "mimetype": "text/x-python",
   "name": "python",
   "nbconvert_exporter": "python",
   "pygments_lexer": "ipython3",
   "version": "3.11.2"
  }
 },
 "nbformat": 4,
 "nbformat_minor": 5
}
