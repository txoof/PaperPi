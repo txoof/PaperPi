{
 "cells": [
  {
   "cell_type": "code",
   "execution_count": null,
   "id": "894bbc95",
   "metadata": {},
   "outputs": [],
   "source": [
    "config = {\n",
    "        'layout': 'layout',\n",
    "        'min_display_time': 30,\n",
    "        'refresh_rate': 5,\n",
    "        'max_priority': 1,\n",
    "        'title': 'Debugging 50',\n",
    "        'crash_rate': .5,\n",
    "        'max_priority_rate': .1\n",
    "}"
   ]
  }
 ],
 "metadata": {
  "jupytext": {
   "cell_metadata_filter": "-all",
   "notebook_metadata_filter": "-all"
  },
  "kernelspec": {
   "display_name": "venv_e-Paper-6143c5ac7f",
   "language": "python",
   "name": "venv_e-paper-6143c5ac7f"
  },
  "language_info": {
   "codemirror_mode": {
    "name": "ipython",
    "version": 3
   },
   "file_extension": ".py",
   "mimetype": "text/x-python",
   "name": "python",
   "nbconvert_exporter": "python",
   "pygments_lexer": "ipython3",
   "version": "3.11.2"
  }
 },
 "nbformat": 4,
 "nbformat_minor": 5
}
