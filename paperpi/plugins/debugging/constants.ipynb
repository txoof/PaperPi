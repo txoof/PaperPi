{
 "cells": [
  {
   "cell_type": "code",
   "execution_count": null,
   "id": "2a309182",
   "metadata": {},
   "outputs": [],
   "source": [
    "version = '0.1.0'\n",
    "name = 'debugging'"
   ]
  },
  {
   "cell_type": "code",
   "execution_count": null,
   "id": "c6bdd488",
   "metadata": {},
   "outputs": [],
   "source": [
    "default_title = 'Debug'"
   ]
  },
  {
   "cell_type": "code",
   "execution_count": null,
   "id": "aaa457d3",
   "metadata": {},
   "outputs": [],
   "source": [
    "# do not include a sample INI configuration\n",
    "include_ini = False"
   ]
  },
  {
   "cell_type": "code",
   "execution_count": null,
   "id": "d8f2122d",
   "metadata": {},
   "outputs": [],
   "source": [
    "sample_config='''\n",
    "[Plugin: Debugging 50]\n",
    "layout = debugging_basic\n",
    "plugin = debugging\n",
    "min_display_time = 50\n",
    "max_priority = 1\n",
    "refresh_rate = 5\n",
    "title = Debugging 50\n",
    "crash_rate = .5\n",
    "max_priority_rate = .1\n",
    "min_priority = 2\n",
    "'''"
   ]
  },
  {
   "cell_type": "code",
   "execution_count": null,
   "id": "d6fc7f73-0803-45e0-a98c-721a702febdc",
   "metadata": {},
   "outputs": [],
   "source": [
    "data = {\n",
    "    'title': 'title of plugin',\n",
    "    'crash_rate': 'float between 0 and 1 indicating how frequently plugin should crash'\n",
    "}"
   ]
  }
 ],
 "metadata": {
  "jupytext": {
   "cell_metadata_filter": "-all",
   "notebook_metadata_filter": "-all"
  },
  "kernelspec": {
   "display_name": "venv_e-Paper-6143c5ac7f",
   "language": "python",
   "name": "venv_e-paper-6143c5ac7f"
  },
  "language_info": {
   "codemirror_mode": {
    "name": "ipython",
    "version": 3
   },
   "file_extension": ".py",
   "mimetype": "text/x-python",
   "name": "python",
   "nbconvert_exporter": "python",
   "pygments_lexer": "ipython3",
   "version": "3.11.2"
  }
 },
 "nbformat": 4,
 "nbformat_minor": 5
}
