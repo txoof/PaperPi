{
 "cells": [
  {
   "cell_type": "code",
   "execution_count": null,
   "metadata": {},
   "outputs": [],
   "source": [
    "import logging"
   ]
  },
  {
   "cell_type": "code",
   "execution_count": null,
   "metadata": {},
   "outputs": [],
   "source": [
    "# two different import modes for development or distribution\n",
    "try:\n",
    "    # import from other modules above this level\n",
    "    from . import layout\n",
    "    from . import constants\n",
    "except ImportError:\n",
    "    import constants\n",
    "    # development in jupyter notebook\n",
    "    import layout"
   ]
  },
  {
   "cell_type": "code",
   "execution_count": null,
   "metadata": {},
   "outputs": [],
   "source": [
    "import sys\n",
    "# fugly hack for making the library module available to the plugins\n",
    "sys.path.append(layout.dir_path+'/../..')"
   ]
  },
  {
   "cell_type": "code",
   "execution_count": null,
   "metadata": {},
   "outputs": [],
   "source": [
    "logger = logging.getLogger(__name__)"
   ]
  },
  {
   "cell_type": "code",
   "execution_count": null,
   "metadata": {},
   "outputs": [],
   "source": [
    "from datetime import datetime\n",
    "def update_function(self, msg=None, high_priority=False, *args, **kwargs):\n",
    "    '''update function for default provides time string and message\n",
    "    \n",
    "    This plugin is designed to display if all other plugins fail to load\n",
    "    \n",
    "    Args:\n",
    "        self(`namespace`)\n",
    "        msg(`str`): string to display\n",
    "    %U'''\n",
    "    if not msg:\n",
    "        msg = constants.msg\n",
    "    data = {\n",
    "        'digit_time': datetime.now().strftime(\"%H:%M:%S\"),\n",
    "        'msg': msg,\n",
    "    }\n",
    "    if high_priority:\n",
    "        priority = -2**15\n",
    "    else:\n",
    "        priority = 2**14\n",
    "        \n",
    "    is_updated = True\n",
    "    return (is_updated, data, priority) "
   ]
  },
  {
   "cell_type": "code",
   "execution_count": null,
   "metadata": {},
   "outputs": [],
   "source": [
    "# # this code snip simulates running from within the display loop use this and the following\n",
    "# # cell to test the output\n",
    "# import logging\n",
    "# logging.root.setLevel('DEBUG')\n",
    "# from library.CacheFiles import CacheFiles\n",
    "# from library.Plugin import Plugin\n",
    "# from IPython.display import display\n",
    "# test_plugin = Plugin(resolution=(800, 600), screen_mode='L')\n",
    "# test_plugin.config = {\n",
    "#     'text_color': 'random',\n",
    "#     'bkground_color': 'White'\n",
    "# }\n",
    "# test_plugin.refresh_rate = 5\n",
    "# l = layout.layout\n",
    "# test_plugin.layout = l\n",
    "# test_plugin.cache = CacheFiles()\n",
    "# test_plugin.update_function = update_function\n",
    "# test_plugin.update()\n",
    "# test_plugin.image"
   ]
  },
  {
   "cell_type": "code",
   "execution_count": null,
   "metadata": {},
   "outputs": [],
   "source": [
    "!jupyter-nbconvert --to python --template python_clean default.ipynb"
   ]
  },
  {
   "cell_type": "code",
   "execution_count": null,
   "metadata": {},
   "outputs": [],
   "source": []
  }
 ],
 "metadata": {
  "kernelspec": {
   "display_name": "PaperPi-VBShxqF-",
   "language": "python",
   "name": "paperpi-vbshxqf-"
  },
  "language_info": {
   "codemirror_mode": {
    "name": "ipython",
    "version": 3
   },
   "file_extension": ".py",
   "mimetype": "text/x-python",
   "name": "python",
   "nbconvert_exporter": "python",
   "pygments_lexer": "ipython3",
   "version": "3.9.2"
  }
 },
 "nbformat": 4,
 "nbformat_minor": 4
}
