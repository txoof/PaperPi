{
 "cells": [
  {
   "cell_type": "code",
   "execution_count": 6,
   "id": "d691f884",
   "metadata": {},
   "outputs": [],
   "source": [
    "import logging\n",
    "from random import choice\n",
    "from copy import deepcopy\n"
   ]
  },
  {
   "cell_type": "code",
   "execution_count": 5,
   "id": "82a06b09",
   "metadata": {},
   "outputs": [],
   "source": [
    "logger = logging.getLogger(__name__)"
   ]
  },
  {
   "cell_type": "code",
   "execution_count": 145,
   "id": "45a8458a",
   "metadata": {},
   "outputs": [],
   "source": [
    "def text_color(config, mode, default_text='WHITE', default_bkground='BLACK'):\n",
    "    '''Sanely set text fill and background colors and falling back to default \n",
    "    values for 1 bit and grayscale displays. This is useful for setting color for RGB screens\n",
    "    \n",
    "    Args:\n",
    "        config(dict): dictionary containing configuration variables (see below)\n",
    "        mode(str): string screen mode: '1', 'L', 'RGB'\n",
    "        default_text(str): color string in ['RED', 'ORANGE', 'YELLOW', 'GREEN', 'BLUE', 'BLACK', 'WHITE']\n",
    "        default_bkground(str) color string in ['RED', 'ORANGE', 'YELLOW', 'GREEN', 'BLUE', 'BLACK', 'WHITE']\n",
    "    \n",
    "    Returns:\n",
    "        dict of {text_color: string, bkground_color: string}\n",
    "        \n",
    "    Notes:\n",
    "        `config` should include 'text_color' and 'bkground_color' and should be one of\n",
    "        ['RED', 'ORANGE', 'YELLOW', 'GREEN', 'BLUE', 'BLACK', 'WHITE'] or 'random'\n",
    "        \n",
    "        Choosing 'random' will try choose a random color from the set. Using random for\n",
    "        both text and bkground will always result in different colors for the text and \n",
    "        bkground values.\n",
    "        \n",
    "        config = {'text_color': 'RED', 'bkground_color': 'BLUE'}\n",
    "        \n",
    "    '''\n",
    "    \n",
    "    def pop_color(all_colors, color):\n",
    "        '''pop `color` from the all_colors list and return the remainder\n",
    "        \n",
    "        Args:\n",
    "            all_colors: list of colors\n",
    "            color: color to pop from list\n",
    "            \n",
    "        returns:\n",
    "            list of remaining colors'''\n",
    "        all_colors.pop(all_colors.index(color))\n",
    "        return all_colors\n",
    "        \n",
    "    \n",
    "    COLOR_CONSTANTS = ['RED', 'ORANGE', 'YELLOW', 'GREEN', 'BLUE', 'BLACK', 'WHITE']\n",
    "    \n",
    "    text_color = config.get('text_color', default_text).upper()\n",
    "    bkground_color = config.get('bkground_color', default_bkground).upper()\n",
    "    \n",
    "    if mode == 'RGB':\n",
    "        logging.debug(f'setting text_color: {text_color}, bkground_color: {bkground_color}')\n",
    "        \n",
    "        my_colors = deepcopy(COLOR_CONSTANTS)\n",
    "        \n",
    "        if text_color.lower() == 'random':\n",
    "            if bkground_color.lower() != 'random':\n",
    "                my_colors = pop_color(my_colors, bkground_color)\n",
    "            text_color = choice(my_colors)\n",
    "        elif text_color not in my_colors:\n",
    "            logging.error(f'invalid text_color: {text_color}; valid choices are {COLOR_CONSTANTS}')\n",
    "            text_color = default_text\n",
    "        \n",
    "        if bkground_color.lower() == 'random':\n",
    "            pop_color(my_colors, text_color)\n",
    "            bkground_color = choice(my_colors)\n",
    "        elif text_color not in my_colors:\n",
    "            logging.error(f'invalid text_color: {text_color}; valid choices are {COLOR_CONSTANTS}')\n",
    "            \n",
    "    else:\n",
    "        text_color = default_text\n",
    "        bkground_color = default_bkground\n",
    "        \n",
    "    if text_color == bkground_color:\n",
    "        logging.warning('Set text color matches set background color. This will likely lead to no readable text.')\n",
    "    \n",
    "    return {'text_color': text_color, 'bkground_color': bkground_color}"
   ]
  },
  {
   "cell_type": "code",
   "execution_count": 204,
   "id": "ea01fe0e",
   "metadata": {},
   "outputs": [
    {
     "name": "stdout",
     "output_type": "stream",
     "text": [
      "[NbConvertApp] Converting notebook PluginTools.ipynb to python\n",
      "[NbConvertApp] Writing 3150 bytes to PluginTools.py\n"
     ]
    }
   ],
   "source": [
    "!jupyter-nbconvert --to python --template python_clean PluginTools.ipynb"
   ]
  }
 ],
 "metadata": {
  "kernelspec": {
   "display_name": "PaperPi-VBShxqF-",
   "language": "python",
   "name": "paperpi-vbshxqf-"
  },
  "language_info": {
   "codemirror_mode": {
    "name": "ipython",
    "version": 3
   },
   "file_extension": ".py",
   "mimetype": "text/x-python",
   "name": "python",
   "nbconvert_exporter": "python",
   "pygments_lexer": "ipython3",
   "version": "3.9.2"
  }
 },
 "nbformat": 4,
 "nbformat_minor": 5
}
